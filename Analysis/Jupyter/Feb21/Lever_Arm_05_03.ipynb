{
 "cells": [
  {
   "cell_type": "code",
   "execution_count": 1,
   "metadata": {},
   "outputs": [],
   "source": [
    "# Add PyDatAnalysis to path\n",
    "import sys\n",
    "# insert at 1, 0 is the script path (or '' in REPL)\n",
    "sys.path.insert(1, \"/Users/owensheekey/Documents/Research/PyDatAnalysis\")\n",
    "\n",
    "export_path = 'Exports/'\n"
   ]
  },
  {
   "cell_type": "code",
   "execution_count": 14,
   "metadata": {},
   "outputs": [],
   "source": [
    "from __future__ import annotations\n",
    "from progressbar import progressbar\n",
    "from src.DatObject.Make_Dat import get_dat, get_dats\n",
    "import src.UsefulFunctions as U\n",
    "from src.DataStandardize.ExpSpecific.Feb21 import Feb21Exp2HDF, Feb21ExpConfig\n",
    "from src.DataStandardize.ExpConfig import ExpConfigGroupDatAttribute, ExpConfigBase\n",
    "import multiprocessing as mp\n",
    "import plotly.graph_objs as go\n",
    "import numpy as np\n",
    "import lmfit as lm\n",
    "from typing import TYPE_CHECKING, Iterable, Optional\n",
    "from src.DatObject.Attributes.Transition import i_sense_digamma, i_sense, i_sense_digamma_quad, i_sense_digamma_amplin\n",
    "from src.UsefulFunctions import edit_params\n",
    "from src.DatObject.Attributes.SquareEntropy import square_wave_time_array, integrate_entropy\n",
    "import logging\n",
    "logger = logging.getLogger(__name__)\n",
    "import src.UsefulFunctions as U\n",
    "from src.CoreUtil import decimate"
   ]
  },
  {
   "cell_type": "code",
   "execution_count": 3,
   "metadata": {
    "jupyter": {
     "source_hidden": true
    }
   },
   "outputs": [],
   "source": [
    "def narrow_fit(dat, width, **kwargs):\n",
    "    '''\n",
    "    Get a fit only including +/- width in dat.x around center of transition\n",
    "    kwargs is the stuff to pass to get_fit\n",
    "    Return a fit\n",
    "    '''\n",
    "    out = dat.SquareEntropy.get_Outputs(existing_only=True)\n",
    "    x = np.copy(out.x)\n",
    "    y = np.copy(out.averaged)\n",
    "    y = np.mean(y[(0, 2), :], axis=0)\n",
    "\n",
    "    start_ind = np.nanargmin(np.abs(np.add(x, width)))\n",
    "    end_ind = np.nanargmin(np.abs(np.subtract(x, width)))\n",
    "\n",
    "    x[:start_ind] = [np.nan] * start_ind\n",
    "    x[end_ind:] = [np.nan] * (len(x) - end_ind)\n",
    "\n",
    "    y[:start_ind] = [np.nan] * start_ind\n",
    "    y[end_ind:] = [np.nan] * (len(y) - end_ind)\n",
    "\n",
    "    fit = dat.SquareEntropy.get_fit(\n",
    "        x=x,\n",
    "        data=y,\n",
    "        **kwargs)\n",
    "    return fit"
   ]
  },
  {
   "cell_type": "code",
   "execution_count": 4,
   "metadata": {},
   "outputs": [],
   "source": [
    "def narrow_fit_trans_only(dat, width, **kwargs):\n",
    "    '''\n",
    "    Get a fit only including +/- width in dat.x around center of transition\n",
    "    kwargs is the stuff to pass to get_fit\n",
    "    Return a fit\n",
    "    '''\n",
    "    x = np.copy(dat.Transition.avg_x)\n",
    "    y = np.copy(dat.Transition.avg_data)\n",
    "\n",
    "    start_ind = np.nanargmin(np.abs(np.add(x, width)))\n",
    "    end_ind = np.nanargmin(np.abs(np.subtract(x, width)))\n",
    "\n",
    "    x[:start_ind] = [np.nan] * start_ind\n",
    "    x[end_ind:] = [np.nan] * (len(x) - end_ind)\n",
    "\n",
    "    y[:start_ind] = [np.nan] * start_ind\n",
    "    y[end_ind:] = [np.nan] * (len(y) - end_ind)\n",
    "\n",
    "    fit = dat.SquareEntropy.get_fit(\n",
    "        x=x,\n",
    "        data=y,\n",
    "        **kwargs)\n",
    "    return fit"
   ]
  },
  {
   "cell_type": "code",
   "execution_count": 5,
   "metadata": {},
   "outputs": [],
   "source": [
    "def do_calc(datnum, overwrite=True):\n",
    "    \"\"\"Just a function which can be passed to a process pool for faster calculation\"\"\"\n",
    "    save_name = 'SPS.01'\n",
    "\n",
    "    dat = get_dat(datnum)\n",
    "\n",
    "    setpoints = [0.01, None]\n",
    "\n",
    "    # Get other inputs\n",
    "    setpoint_times = square_wave_time_array(dat.SquareEntropy.square_awg)\n",
    "    sp_start, sp_fin = [U.get_data_index(setpoint_times, sp) for sp in setpoints]\n",
    "    logger.debug(f'Setpoint times: {setpoints}, Setpoint indexs: {sp_start, sp_fin}')\n",
    "\n",
    "    # Run Fits\n",
    "    pp = dat.SquareEntropy.get_ProcessParams(name=None,  # Load default and modify from there\n",
    "                                             setpoint_start=sp_start, setpoint_fin=sp_fin,\n",
    "                                             transition_fit_func=i_sense,\n",
    "                                             save_name=save_name)\n",
    "    out = dat.SquareEntropy.get_Outputs(name=save_name, inputs=None, process_params=pp, overwrite=overwrite)\n",
    "    dat.Entropy.get_fit(which='avg', name=save_name, data=out.average_entropy_signal, x=out.x, check_exists=False,\n",
    "                        overwrite=overwrite)\n",
    "    [dat.Entropy.get_fit(which='row', row=i, name=save_name,\n",
    "                         data=row, x=out.x, check_exists=False,\n",
    "                         overwrite=overwrite) for i, row in enumerate(out.entropy_signal)]\n",
    "    return out"
   ]
  },
  {
   "cell_type": "code",
   "execution_count": 6,
   "metadata": {},
   "outputs": [],
   "source": [
    "def get_deltaT(dat):\n",
    "    \"\"\"Returns deltaT of a given dat in mV\"\"\"\n",
    "    ho1 = dat.AWG.max(0)  # 'HO1/10M' gives nA * 10\n",
    "    t = dat.Logs.temps.mc\n",
    "\n",
    "    # Datnums to search through (only thing that should be changed)\n",
    "    datnums = set(range(2143, 2156))\n",
    "    # datnums = set()\n",
    "    # for j in range(5):\n",
    "    #     datnums = datnums.union(set(range(28 * j + 1312, 28 * j + 1312 + 4 * 7 + 1)) - set([28 * j + 1312 + 4 * i for i in range(8)]))\n",
    "    # datnums = list(datnums)\n",
    "\n",
    "    dats = get_dats(datnums)\n",
    "\n",
    "    dats = [d for d in dats if np.isclose(d.Logs.temps.mc, dat.Logs.temps.mc, rtol=0.1)]  # Get all dats where MC temp is within 10%\n",
    "    bias_lookup = np.array([d.Logs.fds['HO1/10M'] for d in dats])\n",
    "\n",
    "    indp = np.argmin(abs(bias_lookup - ho1))\n",
    "    indm = np.argmin(abs(bias_lookup + ho1))\n",
    "    theta_z = np.nanmean([d.Transition.avg_fit.best_values.theta for d in dats if d.Logs.fds['HO1/10M'] == 0])\n",
    "\n",
    "    # temp_lookup = np.array([d.Logs.temps.mc for d in dats])\n",
    "    # bias_lookup = np.array([d.Logs.fds['HO1/10M'] for d in dats])\n",
    "    #\n",
    "    # indp = np.argmin(temp_lookup - t + bias_lookup - ho1)\n",
    "    # indm = np.argmin(temp_lookup - t + bias_lookup + ho1)\n",
    "    # indz = np.argmin(temp_lookup - t + bias_lookup)\n",
    "\n",
    "    theta_p = dats[indp].Transition.avg_fit.best_values.theta\n",
    "    theta_m = dats[indm].Transition.avg_fit.best_values.theta\n",
    "    # theta_z = dats[indz].Transition.avg_fit.best_values.theta\n",
    "    return (theta_p + theta_m) / 2 - theta_z"
   ]
  },
  {
   "cell_type": "code",
   "execution_count": 7,
   "metadata": {},
   "outputs": [],
   "source": [
    "datnums = np.sort(list(set(range(7129, 7273+1)) | set(range(7304, 7321+1)) | set(range(7292, 7302+1))))"
   ]
  },
  {
   "cell_type": "code",
   "execution_count": 8,
   "metadata": {},
   "outputs": [],
   "source": [
    "dats = get_dats(list(datnums), overwrite=False)"
   ]
  },
  {
   "cell_type": "code",
   "execution_count": 9,
   "metadata": {},
   "outputs": [
    {
     "name": "stdout",
     "output_type": "stream",
     "text": [
      "0, 7129:0.50:-289.92\n",
      "1, 7130:0.50:-284.73\n",
      "2, 7131:0.50:-279.54\n",
      "3, 7132:0.50:-274.35\n",
      "4, 7133:0.50:-269.17\n",
      "5, 7134:0.50:-263.98\n",
      "6, 7135:0.50:-258.79\n",
      "7, 7136:0.50:-253.6\n",
      "8, 7137:0.50:-248.41\n",
      "9, 7138:0.50:-243.23\n",
      "10, 7139:0.49:-238.04\n",
      "11, 7140:0.50:-232.85\n",
      "12, 7141:0.50:-227.66\n",
      "13, 7142:0.50:-222.47\n",
      "14, 7143:0.50:-217.29\n",
      "15, 7144:0.50:-212.1\n",
      "16, 7145:0.51:-206.91\n",
      "17, 7146:0.50:-201.72\n",
      "18, 7147:0.50:-196.53\n",
      "19, 7148:0.50:-189.82\n",
      "20, 7149:0.50:-179.75\n",
      "21, 7150:0.50:-169.68\n",
      "22, 7151:0.50:-159.61\n",
      "23, 7152:0.50:-149.54\n",
      "24, 7153:0.50:-159.91\n",
      "25, 7154:0.50:-149.84\n",
      "26, 7155:0.50:-139.77\n",
      "27, 7156:0.50:-129.7\n",
      "28, 7157:0.49:-119.63\n",
      "29, 7158:0.40:-289.92\n",
      "30, 7159:0.40:-284.73\n",
      "31, 7160:0.40:-279.54\n",
      "32, 7161:0.40:-274.35\n",
      "33, 7162:0.40:-269.17\n",
      "34, 7163:0.40:-263.98\n",
      "35, 7164:0.40:-258.79\n",
      "36, 7165:0.40:-253.6\n",
      "37, 7166:0.40:-248.41\n",
      "38, 7167:0.40:-243.23\n",
      "39, 7168:0.40:-238.04\n",
      "40, 7169:0.40:-232.85\n",
      "41, 7170:0.40:-227.66\n",
      "42, 7171:0.40:-222.47\n",
      "43, 7172:0.40:-217.29\n",
      "44, 7173:0.40:-212.1\n",
      "45, 7174:0.40:-206.91\n",
      "46, 7175:0.40:-201.72\n",
      "47, 7176:0.40:-196.53\n",
      "48, 7177:0.40:-189.82\n",
      "49, 7178:0.40:-179.75\n",
      "50, 7179:0.40:-169.68\n",
      "51, 7180:0.40:-159.61\n",
      "52, 7181:0.40:-149.54\n",
      "53, 7182:0.40:-159.91\n",
      "54, 7183:0.40:-149.84\n",
      "55, 7184:0.40:-139.77\n",
      "56, 7185:0.40:-129.7\n",
      "57, 7186:0.40:-119.63\n",
      "58, 7187:0.30:-289.92\n",
      "59, 7188:0.30:-284.73\n",
      "60, 7189:0.30:-279.54\n",
      "61, 7190:0.30:-274.35\n",
      "62, 7191:0.30:-269.17\n",
      "63, 7192:0.30:-263.98\n",
      "64, 7193:0.30:-258.79\n",
      "65, 7194:0.30:-253.6\n",
      "66, 7195:0.30:-248.41\n",
      "67, 7196:0.30:-243.23\n",
      "68, 7197:0.30:-238.04\n",
      "69, 7198:0.30:-232.85\n",
      "70, 7199:0.30:-227.66\n",
      "71, 7200:0.30:-222.47\n",
      "72, 7201:0.30:-217.29\n",
      "73, 7202:0.30:-212.1\n",
      "74, 7203:0.30:-206.91\n",
      "75, 7204:0.30:-201.72\n",
      "76, 7205:0.30:-196.53\n",
      "77, 7206:0.30:-189.82\n",
      "78, 7207:0.30:-179.75\n",
      "79, 7208:0.30:-169.68\n",
      "80, 7209:0.30:-159.61\n",
      "81, 7210:0.30:-149.54\n",
      "82, 7211:0.30:-159.91\n",
      "83, 7212:0.30:-149.84\n",
      "84, 7213:0.30:-139.77\n",
      "85, 7214:0.30:-129.7\n",
      "86, 7215:0.30:-119.63\n",
      "87, 7216:0.20:-289.92\n",
      "88, 7217:0.20:-284.73\n",
      "89, 7218:0.20:-279.54\n",
      "90, 7219:0.20:-274.35\n",
      "91, 7220:0.20:-269.17\n",
      "92, 7221:0.20:-263.98\n",
      "93, 7222:0.20:-258.79\n",
      "94, 7223:0.20:-253.6\n",
      "95, 7224:0.20:-248.41\n",
      "96, 7225:0.20:-243.23\n",
      "97, 7226:0.20:-238.04\n",
      "98, 7227:0.20:-232.85\n",
      "99, 7228:0.20:-227.66\n",
      "100, 7229:0.20:-222.47\n",
      "101, 7230:0.20:-217.29\n",
      "102, 7231:0.20:-212.1\n",
      "103, 7232:0.20:-206.91\n",
      "104, 7233:0.20:-201.72\n",
      "105, 7234:0.20:-196.53\n",
      "106, 7235:0.20:-189.82\n",
      "107, 7236:0.20:-179.75\n",
      "108, 7237:0.20:-169.68\n",
      "109, 7238:0.20:-159.61\n",
      "110, 7239:0.20:-149.54\n",
      "111, 7240:0.20:-159.91\n",
      "112, 7241:0.20:-149.84\n",
      "113, 7242:0.20:-139.77\n",
      "114, 7243:0.20:-129.7\n",
      "115, 7244:0.20:-119.63\n",
      "116, 7245:0.10:-289.92\n",
      "117, 7246:0.10:-284.73\n",
      "118, 7247:0.10:-279.54\n",
      "119, 7248:0.10:-274.35\n",
      "120, 7249:0.10:-269.17\n",
      "121, 7250:0.10:-263.98\n",
      "122, 7251:0.10:-258.79\n",
      "123, 7252:0.10:-253.6\n",
      "124, 7253:0.10:-248.41\n",
      "125, 7254:0.10:-243.23\n",
      "126, 7255:0.10:-238.04\n",
      "127, 7256:0.10:-232.85\n",
      "128, 7257:0.10:-227.66\n",
      "129, 7258:0.10:-222.47\n",
      "130, 7259:0.10:-217.29\n",
      "131, 7260:0.10:-212.1\n",
      "132, 7261:0.10:-206.91\n",
      "133, 7262:0.10:-201.72\n",
      "134, 7263:0.10:-196.53\n",
      "135, 7264:0.10:-189.82\n",
      "136, 7265:0.10:-179.75\n",
      "137, 7266:0.10:-169.68\n",
      "138, 7267:0.10:-159.61\n",
      "139, 7268:0.10:-149.54\n",
      "140, 7269:0.10:-159.91\n",
      "141, 7270:0.10:-149.84\n",
      "142, 7271:0.10:-139.77\n",
      "143, 7272:0.10:-129.7\n",
      "144, 7273:0.10:-119.63\n",
      "145, 7292:0.05:-196.53\n",
      "146, 7293:0.05:-189.82\n",
      "147, 7294:0.05:-179.75\n",
      "148, 7295:0.05:-169.68\n",
      "149, 7296:0.05:-159.61\n",
      "150, 7297:0.05:-149.54\n",
      "151, 7298:0.05:-159.91\n",
      "152, 7299:0.05:-149.84\n",
      "153, 7300:0.05:-139.77\n",
      "154, 7301:0.05:-129.7\n",
      "155, 7302:0.05:-119.63\n",
      "156, 7304:0.05:-284.73\n",
      "157, 7305:0.05:-279.54\n",
      "158, 7306:0.05:-274.35\n",
      "159, 7307:0.05:-269.17\n",
      "160, 7308:0.05:-263.98\n",
      "161, 7309:0.05:-258.79\n",
      "162, 7310:0.05:-253.6\n",
      "163, 7311:0.05:-248.41\n",
      "164, 7312:0.05:-243.23\n",
      "165, 7313:0.05:-238.04\n",
      "166, 7314:0.05:-232.85\n",
      "167, 7315:0.05:-227.66\n",
      "168, 7316:0.05:-222.47\n",
      "169, 7317:0.05:-217.29\n",
      "170, 7318:0.05:-212.1\n",
      "171, 7319:0.05:-206.91\n",
      "172, 7320:0.05:-201.72\n",
      "173, 7321:0.05:-196.53\n"
     ]
    }
   ],
   "source": [
    "for i, dat in enumerate(dats):\n",
    "    print(f'{i}, {dat.datnum}:{dat.Logs.temps.mc:.2f}:{dat.Logs.fds[\"ESC\"]}')"
   ]
  },
  {
   "cell_type": "code",
   "execution_count": 59,
   "metadata": {},
   "outputs": [],
   "source": [
    "# Θ = np.average([dat.SquareEntropy.get_fit(which='avg',which_fit='transition', transition_part='cold', check_exists=False).best_values.theta for dat in progressbar(dats)])\n",
    "fit = dats[0].Transition.get_fit(which='avg', check_exists=False)\n",
    "Θ = 20\n",
    "params = fit.params\n",
    "params.add('g', value=0, vary=False, min=-50, max=1000)\n",
    "new_pars = edit_params(params, param_name='theta', value=Θ, vary=True)"
   ]
  },
  {
   "cell_type": "code",
   "execution_count": 83,
   "metadata": {},
   "outputs": [
    {
     "name": "stderr",
     "output_type": "stream",
     "text": [
      "100% (28 of 28) |########################| Elapsed Time: 0:00:00 Time:  0:00:00\n"
     ]
    }
   ],
   "source": [
    "fits = [narrow_fit_trans_only(\n",
    "    dat,\n",
    "    500,\n",
    "    initial_params=new_pars, \n",
    "    fit_func=i_sense_digamma, \n",
    "    check_exists=False)\n",
    "for dat in progressbar(dats[145:-1])]"
   ]
  },
  {
   "cell_type": "code",
   "execution_count": 84,
   "metadata": {},
   "outputs": [],
   "source": [
    "thetas = [fit.best_values.theta for fit in fits]\n",
    "gammas = [fit.best_values.g for fit in fits]\n",
    "escs = [dat.Logs.fds[\"ESC\"] for dat in dats][145:-1]"
   ]
  },
  {
   "cell_type": "code",
   "execution_count": 85,
   "metadata": {},
   "outputs": [],
   "source": [
    "temp_escs = []\n",
    "temp_thetas = []\n",
    "for i, esc in enumerate(escs):\n",
    "    if esc < -230:\n",
    "        temp_escs.append(esc)\n",
    "        temp_thetas.append(thetas[i])\n",
    "thetafit = np.polyfit(temp_escs, temp_thetas, 1)"
   ]
  },
  {
   "cell_type": "code",
   "execution_count": 86,
   "metadata": {},
   "outputs": [],
   "source": [
    "fig = go.Figure()\n",
    "\n",
    "fig.add_trace(go.Scatter(mode='markers', x=escs, y=thetas, text=datnums[145:-1], name=\"Data -- Thetas\", marker_color=\"blue\"))\n",
    "fig.add_trace(go.Scatter(mode='markers', x=escs, y=gammas, text=datnums[145:-1], name=\"Data -- Gammas\", marker_color=\"red\"))\n",
    "fig.add_trace(go.Scatter(mode='lines', x=temp_escs, y=np.polyval(thetafit, temp_escs), name=\"Fit\", marker_color=\"grey\"))\n",
    "\n",
    "fig.update_layout(xaxis_title='ESC /mV', yaxis_title='Theta /mV',\n",
    "                      title=f'Dats {dats[145].datnum} - {dats[-1].datnum}')\n",
    "fig.show(renderer=\"chrome\")"
   ]
  },
  {
   "cell_type": "code",
   "execution_count": 70,
   "metadata": {},
   "outputs": [],
   "source": [
    "fig.write_html(f'Exports/Theta_dats{dats[145].datnum}_{dats[-1].datnum}.html')"
   ]
  },
  {
   "cell_type": "code",
   "execution_count": 246,
   "metadata": {},
   "outputs": [],
   "source": [
    "dats_cc = []\n",
    "for dat in dats:\n",
    "    if dat.Logs.fds[\"ESC\"] == -222.47:\n",
    "        dats_cc.append(dat)\n",
    "thetafit = np.array([ 0.09579436, 65.78364881])\n",
    "dats_cc_temps = np.array([dat.Logs.temps.mc for dat in dats_cc])\n",
    "dats_cc_thetas = np.polyval(thetafit, [-179.75])[0]*(dats_cc_temps/0.1)"
   ]
  },
  {
   "cell_type": "code",
   "execution_count": 247,
   "metadata": {},
   "outputs": [
    {
     "name": "stdout",
     "output_type": "stream",
     "text": [
      "0, 7142:0.50:-222.47\n",
      "1, 7171:0.40:-222.47\n",
      "2, 7200:0.30:-222.47\n",
      "3, 7229:0.20:-222.47\n",
      "4, 7258:0.10:-222.47\n",
      "5, 7316:0.05:-222.47\n"
     ]
    }
   ],
   "source": [
    "for i, dat in enumerate(dats_cc):\n",
    "     print(f'{i}, {dat.datnum}:{dat.Logs.temps.mc:.2f}:{dat.Logs.fds[\"ESC\"]}')"
   ]
  },
  {
   "cell_type": "code",
   "execution_count": 252,
   "metadata": {},
   "outputs": [
    {
     "name": "stderr",
     "output_type": "stream",
     "text": [
      "| |                 #                                 | 5 Elapsed Time: 0:00:01\n"
     ]
    }
   ],
   "source": [
    "fig = go.Figure()\n",
    "\n",
    "gamma_params = edit_params(new_pars, param_name='g', value=0, vary=True)\n",
    "xx = []\n",
    "yy = []\n",
    "for i, dat in progressbar(enumerate(dats_cc)):\n",
    "    theta = dats_cc_thetas[i]\n",
    "    theta_range = [theta + j*0.05*theta for j in range(-5, 6)]\n",
    "    fit_gammas = [narrow_fit_trans_only(dat,\n",
    "                                        5000,\n",
    "                                        initial_params=edit_params(gamma_params, param_name='theta', value=theta, vary=False), \n",
    "                                        fit_func=i_sense_digamma, \n",
    "                                        check_exists=False) for theta in theta_range]\n",
    "#     fig.add_trace(go.Scatter(mode='lines', x=theta_range/dat.Logs.temps.mc, y=fit_gammas, name=f'T = {dat.Logs.temps.mc:.2f}K'))\n",
    "    \n",
    "    for i in range(len(xx)):\n",
    "        pass\n",
    "#         xint, yint = find_intercept(theta_range/dat.Logs.temps.mc, fit_gammas, xx[i], yy[i])\n",
    "#         fig.add_trace(go.Scatter(mode='markers', x=[xint], y=[yint], marker_color=\"grey\", showlegend=False))\n",
    "    \n",
    "    xx.append(theta_range/dat.Logs.temps.mc)\n",
    "    yy.append(fit_gammas)\n",
    "#     xfit = np.linspace(-5000,5000,1001)\n",
    "#     x = dat.Transition.avg_x\n",
    "#     y = dat.Transition.avg_data\n",
    "#     fits.append(fit_gammas[0])\n",
    "#     yfit = fit_gammas[0].eval_fit(xfit)\n",
    "#     fig.add_trace(go.Scatter(mode='lines', x=xfit, y=yfit, marker_color='grey'))\n",
    "#     fig.add_trace(go.Scatter(mode='markers', x=x, y=y, name=f'T = {dats_cc_temps[i]}'))\n",
    "# fig.update_layout(xaxis_title='Theta/Tmc [mV/K]', yaxis_title='Gamma /mV',\n",
    "#                       title=f'ESC = {dats_cc[0].Logs.fds[\"ESC\"]}')\n",
    "# fig.show(renderer=\"chrome\") "
   ]
  },
  {
   "cell_type": "code",
   "execution_count": 253,
   "metadata": {
    "collapsed": true,
    "jupyter": {
     "outputs_hidden": true
    }
   },
   "outputs": [
    {
     "data": {
      "text/plain": [
       "[FitInfo(params=Parameters([('amp', <Parameter 'amp', value=0.31282067608330144 +/- 0.0013, bounds=[0:inf]>), ('const', <Parameter 'const', value=7.056137537849091 +/- 8.51e-05, bounds=[-inf:inf]>), ('g', <Parameter 'g', value=22.704503686014974 +/- 0.308, bounds=[-50:1000]>), ('lin', <Parameter 'lin', value=6.784436528062265e-05 +/- 2.05e-06, bounds=[0:inf]>), ('mid', <Parameter 'mid', value=0.21290763656011735 +/- 0.104, bounds=[-inf:inf]>), ('theta', <Parameter 'theta', value=18.219742886078997 (fixed), bounds=[0.01:inf]>)]), init_params=Parameters([('amp', <Parameter 'amp', value=0.3277557114199119, bounds=[0:inf]>), ('const', <Parameter 'const', value=7.256241261322933, bounds=[-inf:inf]>), ('g', <Parameter 'g', value=0, bounds=[-50:1000]>), ('lin', <Parameter 'lin', value=6.056142522536945e-05, bounds=[0:inf]>), ('mid', <Parameter 'mid', value=0.6506405224762731, bounds=[-inf:inf]>), ('theta', <Parameter 'theta', value=18.219742886078997 (fixed), bounds=[0.01:inf]>)]), func_name='i_sense_digamma', func_code='def i_sense_digamma(x, mid, g, theta, amp, lin, const):\\n    from scipy.special import digamma  # FIXME: This is a temporary fix because I run fit code to initialize FitInfo\\n    arg = digamma(0.5 + (x - mid + 1j * g) / (2 * np.pi * 1j * theta))  # j is imaginary i\\n    return amp * (0.5 + np.imag(arg) / np.pi) + lin * (\\n                x - mid) + const - amp / 2  # -amp/2 so const term coincides with i_sense\\n', fit_report='[[Model]]\\n    Model(i_sense_digamma)\\n[[Fit Statistics]]\\n    # fitting method   = leastsq\\n    # function evals   = 37\\n    # data points      = 170\\n    # variables        = 5\\n    chi-square         = 1.4271e-04\\n    reduced chi-square = 8.6488e-07\\n    Akaike info crit   = -2368.38958\\n    Bayesian info crit = -2352.71059\\n[[Variables]]\\n    amp:    0.31282068 +/- 0.00130217 (0.42%) (init = 0.3277557)\\n    const:  7.05613754 +/- 8.5093e-05 (0.00%) (init = 7.256241)\\n    lin:    6.7844e-05 +/- 2.0519e-06 (3.02%) (init = 6.056143e-05)\\n    mid:    0.21290764 +/- 0.10365242 (48.68%) (init = 0.6506405)\\n    theta:  18.21974 (fixed)\\n    g:      22.7045037 +/- 0.30750256 (1.35%) (init = 0)\\n[[Correlations]] (unreported correlations are < 0.100)\\n    C(amp, lin)   =  0.973\\n    C(amp, g)     =  0.927\\n    C(lin, g)     =  0.849\\n    C(const, mid) = -0.507\\n    C(const, lin) = -0.220\\n    C(amp, const) = -0.177\\n    C(const, g)   = -0.131\\n    C(lin, mid)   =  0.120', model=<lmfit.Model: Model(i_sense_digamma)>, best_values=amp=0.31282\n",
       " const=7.0561\n",
       " g=22.705\n",
       " lin=6.7844e-05\n",
       " mid=0.21291\n",
       " theta=18.22\n",
       " , init_values=amp=0.32776\n",
       " const=7.2562\n",
       " g=0\n",
       " lin=6.0561e-05\n",
       " mid=0.65064\n",
       " theta=18.22\n",
       " , hash=669224479179394028, fit_result=None),\n",
       " FitInfo(params=Parameters([('amp', <Parameter 'amp', value=0.3078966018762601 +/- 0.00137, bounds=[0:inf]>), ('const', <Parameter 'const', value=7.056152970028327 +/- 9.04e-05, bounds=[-inf:inf]>), ('g', <Parameter 'g', value=20.383442417958904 +/- 0.328, bounds=[-50:1000]>), ('lin', <Parameter 'lin', value=6.23989907788669e-05 +/- 2.17e-06, bounds=[0:inf]>), ('mid', <Parameter 'mid', value=0.20204438863561622 +/- 0.11, bounds=[-inf:inf]>), ('theta', <Parameter 'theta', value=19.434392411817598 (fixed), bounds=[0.01:inf]>)]), init_params=Parameters([('amp', <Parameter 'amp', value=0.3277557114199119, bounds=[0:inf]>), ('const', <Parameter 'const', value=7.256241261322933, bounds=[-inf:inf]>), ('g', <Parameter 'g', value=0, bounds=[-50:1000]>), ('lin', <Parameter 'lin', value=6.056142522536945e-05, bounds=[0:inf]>), ('mid', <Parameter 'mid', value=0.6506405224762731, bounds=[-inf:inf]>), ('theta', <Parameter 'theta', value=19.434392411817598 (fixed), bounds=[0.01:inf]>)]), func_name='i_sense_digamma', func_code='def i_sense_digamma(x, mid, g, theta, amp, lin, const):\\n    from scipy.special import digamma  # FIXME: This is a temporary fix because I run fit code to initialize FitInfo\\n    arg = digamma(0.5 + (x - mid + 1j * g) / (2 * np.pi * 1j * theta))  # j is imaginary i\\n    return amp * (0.5 + np.imag(arg) / np.pi) + lin * (\\n                x - mid) + const - amp / 2  # -amp/2 so const term coincides with i_sense\\n', fit_report='[[Model]]\\n    Model(i_sense_digamma)\\n[[Fit Statistics]]\\n    # fitting method   = leastsq\\n    # function evals   = 37\\n    # data points      = 170\\n    # variables        = 5\\n    chi-square         = 1.6094e-04\\n    reduced chi-square = 9.7539e-07\\n    Akaike info crit   = -2347.94807\\n    Bayesian info crit = -2332.26908\\n[[Variables]]\\n    amp:    0.30789660 +/- 0.00136846 (0.44%) (init = 0.3277557)\\n    const:  7.05615297 +/- 9.0404e-05 (0.00%) (init = 7.256241)\\n    lin:    6.2399e-05 +/- 2.1698e-06 (3.48%) (init = 6.056143e-05)\\n    mid:    0.20204439 +/- 0.11017421 (54.53%) (init = 0.6506405)\\n    theta:  19.43439 (fixed)\\n    g:      20.3834424 +/- 0.32843436 (1.61%) (init = 0)\\n[[Correlations]] (unreported correlations are < 0.100)\\n    C(amp, lin)   =  0.972\\n    C(amp, g)     =  0.928\\n    C(lin, g)     =  0.850\\n    C(const, mid) = -0.508\\n    C(const, lin) = -0.220\\n    C(amp, const) = -0.177\\n    C(const, g)   = -0.131\\n    C(lin, mid)   =  0.120', model=<lmfit.Model: Model(i_sense_digamma)>, best_values=amp=0.3079\n",
       " const=7.0562\n",
       " g=20.383\n",
       " lin=6.2399e-05\n",
       " mid=0.20204\n",
       " theta=19.434\n",
       " , init_values=amp=0.32776\n",
       " const=7.2562\n",
       " g=0\n",
       " lin=6.0561e-05\n",
       " mid=0.65064\n",
       " theta=19.434\n",
       " , hash=715525230575672242, fit_result=None),\n",
       " FitInfo(params=Parameters([('amp', <Parameter 'amp', value=0.3029280047338543 +/- 0.00144, bounds=[0:inf]>), ('const', <Parameter 'const', value=7.056168166219552 +/- 9.59e-05, bounds=[-inf:inf]>), ('g', <Parameter 'g', value=17.973621474599113 +/- 0.35, bounds=[-50:1000]>), ('lin', <Parameter 'lin', value=5.6912320381963255e-05 +/- 2.29e-06, bounds=[0:inf]>), ('mid', <Parameter 'mid', value=0.19143148205016616 +/- 0.117, bounds=[-inf:inf]>), ('theta', <Parameter 'theta', value=20.6490419375562 (fixed), bounds=[0.01:inf]>)]), init_params=Parameters([('amp', <Parameter 'amp', value=0.3277557114199119, bounds=[0:inf]>), ('const', <Parameter 'const', value=7.256241261322933, bounds=[-inf:inf]>), ('g', <Parameter 'g', value=0, bounds=[-50:1000]>), ('lin', <Parameter 'lin', value=6.056142522536945e-05, bounds=[0:inf]>), ('mid', <Parameter 'mid', value=0.6506405224762731, bounds=[-inf:inf]>), ('theta', <Parameter 'theta', value=20.6490419375562 (fixed), bounds=[0.01:inf]>)]), func_name='i_sense_digamma', func_code='def i_sense_digamma(x, mid, g, theta, amp, lin, const):\\n    from scipy.special import digamma  # FIXME: This is a temporary fix because I run fit code to initialize FitInfo\\n    arg = digamma(0.5 + (x - mid + 1j * g) / (2 * np.pi * 1j * theta))  # j is imaginary i\\n    return amp * (0.5 + np.imag(arg) / np.pi) + lin * (\\n                x - mid) + const - amp / 2  # -amp/2 so const term coincides with i_sense\\n', fit_report='[[Model]]\\n    Model(i_sense_digamma)\\n[[Fit Statistics]]\\n    # fitting method   = leastsq\\n    # function evals   = 31\\n    # data points      = 170\\n    # variables        = 5\\n    chi-square         = 1.8102e-04\\n    reduced chi-square = 1.0971e-06\\n    Akaike info crit   = -2327.95870\\n    Bayesian info crit = -2312.27971\\n[[Variables]]\\n    amp:    0.30292800 +/- 0.00143549 (0.47%) (init = 0.3277557)\\n    const:  7.05616817 +/- 9.5916e-05 (0.00%) (init = 7.256241)\\n    lin:    5.6912e-05 +/- 2.2913e-06 (4.03%) (init = 6.056143e-05)\\n    mid:    0.19143148 +/- 0.11694322 (61.09%) (init = 0.6506405)\\n    theta:  20.64904 (fixed)\\n    g:      17.9736215 +/- 0.35028062 (1.95%) (init = 0)\\n[[Correlations]] (unreported correlations are < 0.100)\\n    C(amp, lin)   =  0.972\\n    C(amp, g)     =  0.929\\n    C(lin, g)     =  0.851\\n    C(const, mid) = -0.508\\n    C(const, lin) = -0.220\\n    C(amp, const) = -0.177\\n    C(const, g)   = -0.132\\n    C(lin, mid)   =  0.120', model=<lmfit.Model: Model(i_sense_digamma)>, best_values=amp=0.30293\n",
       " const=7.0562\n",
       " g=17.974\n",
       " lin=5.6912e-05\n",
       " mid=0.19143\n",
       " theta=20.649\n",
       " , init_values=amp=0.32776\n",
       " const=7.2562\n",
       " g=0\n",
       " lin=6.0561e-05\n",
       " mid=0.65064\n",
       " theta=20.649\n",
       " , hash=2214884267925739768, fit_result=None),\n",
       " FitInfo(params=Parameters([('amp', <Parameter 'amp', value=0.29793403969507626 +/- 0.0015, bounds=[0:inf]>), ('const', <Parameter 'const', value=7.056183118681464 +/- 0.000102, bounds=[-inf:inf]>), ('g', <Parameter 'g', value=15.48029191576957 +/- 0.373, bounds=[-50:1000]>), ('lin', <Parameter 'lin', value=5.140524396307633e-05 +/- 2.41e-06, bounds=[0:inf]>), ('mid', <Parameter 'mid', value=0.1809805417642303 +/- 0.124, bounds=[-inf:inf]>), ('theta', <Parameter 'theta', value=21.8636914632948 (fixed), bounds=[0.01:inf]>)]), init_params=Parameters([('amp', <Parameter 'amp', value=0.3277557114199119, bounds=[0:inf]>), ('const', <Parameter 'const', value=7.256241261322933, bounds=[-inf:inf]>), ('g', <Parameter 'g', value=0, bounds=[-50:1000]>), ('lin', <Parameter 'lin', value=6.056142522536945e-05, bounds=[0:inf]>), ('mid', <Parameter 'mid', value=0.6506405224762731, bounds=[-inf:inf]>), ('theta', <Parameter 'theta', value=21.8636914632948 (fixed), bounds=[0.01:inf]>)]), func_name='i_sense_digamma', func_code='def i_sense_digamma(x, mid, g, theta, amp, lin, const):\\n    from scipy.special import digamma  # FIXME: This is a temporary fix because I run fit code to initialize FitInfo\\n    arg = digamma(0.5 + (x - mid + 1j * g) / (2 * np.pi * 1j * theta))  # j is imaginary i\\n    return amp * (0.5 + np.imag(arg) / np.pi) + lin * (\\n                x - mid) + const - amp / 2  # -amp/2 so const term coincides with i_sense\\n', fit_report='[[Model]]\\n    Model(i_sense_digamma)\\n[[Fit Statistics]]\\n    # fitting method   = leastsq\\n    # function evals   = 31\\n    # data points      = 170\\n    # variables        = 5\\n    chi-square         = 2.0272e-04\\n    reduced chi-square = 1.2286e-06\\n    Akaike info crit   = -2308.71617\\n    Bayesian info crit = -2293.03718\\n[[Variables]]\\n    amp:    0.29793404 +/- 0.00150184 (0.50%) (init = 0.3277557)\\n    const:  7.05618312 +/- 1.0154e-04 (0.00%) (init = 7.256241)\\n    lin:    5.1405e-05 +/- 2.4131e-06 (4.69%) (init = 6.056143e-05)\\n    mid:    0.18098054 +/- 0.12385986 (68.44%) (init = 0.6506405)\\n    theta:  21.86369 (fixed)\\n    g:      15.4802919 +/- 0.37271381 (2.41%) (init = 0)\\n[[Correlations]] (unreported correlations are < 0.100)\\n    C(amp, lin)   =  0.972\\n    C(amp, g)     =  0.930\\n    C(lin, g)     =  0.852\\n    C(const, mid) = -0.509\\n    C(const, lin) = -0.220\\n    C(amp, const) = -0.177\\n    C(const, g)   = -0.132\\n    C(lin, mid)   =  0.119', model=<lmfit.Model: Model(i_sense_digamma)>, best_values=amp=0.29793\n",
       " const=7.0562\n",
       " g=15.48\n",
       " lin=5.1405e-05\n",
       " mid=0.18098\n",
       " theta=21.864\n",
       " , init_values=amp=0.32776\n",
       " const=7.2562\n",
       " g=0\n",
       " lin=6.0561e-05\n",
       " mid=0.65064\n",
       " theta=21.864\n",
       " , hash=933010453371429504, fit_result=None),\n",
       " FitInfo(params=Parameters([('amp', <Parameter 'amp', value=0.2929315743651997 +/- 0.00157, bounds=[0:inf]>), ('const', <Parameter 'const', value=7.056197732897947 +/- 0.000107, bounds=[-inf:inf]>), ('g', <Parameter 'g', value=12.908312144658922 +/- 0.395, bounds=[-50:1000]>), ('lin', <Parameter 'lin', value=4.589617474870522e-05 +/- 2.53e-06, bounds=[0:inf]>), ('mid', <Parameter 'mid', value=0.1708373536818056 +/- 0.131, bounds=[-inf:inf]>), ('theta', <Parameter 'theta', value=23.078340989033396 (fixed), bounds=[0.01:inf]>)]), init_params=Parameters([('amp', <Parameter 'amp', value=0.3277557114199119, bounds=[0:inf]>), ('const', <Parameter 'const', value=7.256241261322933, bounds=[-inf:inf]>), ('g', <Parameter 'g', value=0, bounds=[-50:1000]>), ('lin', <Parameter 'lin', value=6.056142522536945e-05, bounds=[0:inf]>), ('mid', <Parameter 'mid', value=0.6506405224762731, bounds=[-inf:inf]>), ('theta', <Parameter 'theta', value=23.078340989033396 (fixed), bounds=[0.01:inf]>)]), func_name='i_sense_digamma', func_code='def i_sense_digamma(x, mid, g, theta, amp, lin, const):\\n    from scipy.special import digamma  # FIXME: This is a temporary fix because I run fit code to initialize FitInfo\\n    arg = digamma(0.5 + (x - mid + 1j * g) / (2 * np.pi * 1j * theta))  # j is imaginary i\\n    return amp * (0.5 + np.imag(arg) / np.pi) + lin * (\\n                x - mid) + const - amp / 2  # -amp/2 so const term coincides with i_sense\\n', fit_report='[[Model]]\\n    Model(i_sense_digamma)\\n[[Fit Statistics]]\\n    # fitting method   = leastsq\\n    # function evals   = 31\\n    # data points      = 170\\n    # variables        = 5\\n    chi-square         = 2.2579e-04\\n    reduced chi-square = 1.3684e-06\\n    Akaike info crit   = -2290.39229\\n    Bayesian info crit = -2274.71330\\n[[Variables]]\\n    amp:    0.29293157 +/- 0.00156634 (0.53%) (init = 0.3277557)\\n    const:  7.05619773 +/- 1.0721e-04 (0.00%) (init = 7.256241)\\n    lin:    4.5896e-05 +/- 2.5346e-06 (5.52%) (init = 6.056143e-05)\\n    mid:    0.17083735 +/- 0.13082632 (76.58%) (init = 0.6506405)\\n    theta:  23.07834 (fixed)\\n    g:      12.9083121 +/- 0.39545697 (3.06%) (init = 0)\\n[[Correlations]] (unreported correlations are < 0.100)\\n    C(amp, lin)   =  0.972\\n    C(amp, g)     =  0.930\\n    C(lin, g)     =  0.853\\n    C(const, mid) = -0.509\\n    C(const, lin) = -0.220\\n    C(amp, const) = -0.177\\n    C(const, g)   = -0.132\\n    C(lin, mid)   =  0.119', model=<lmfit.Model: Model(i_sense_digamma)>, best_values=amp=0.29293\n",
       " const=7.0562\n",
       " g=12.908\n",
       " lin=4.5896e-05\n",
       " mid=0.17084\n",
       " theta=23.078\n",
       " , init_values=amp=0.32776\n",
       " const=7.2562\n",
       " g=0\n",
       " lin=6.0561e-05\n",
       " mid=0.65064\n",
       " theta=23.078\n",
       " , hash=1623051262221936989, fit_result=None),\n",
       " FitInfo(params=Parameters([('amp', <Parameter 'amp', value=0.28793576238699226 +/- 0.00163, bounds=[0:inf]>), ('const', <Parameter 'const', value=7.056211941809164 +/- 0.000113, bounds=[-inf:inf]>), ('g', <Parameter 'g', value=10.26230494807853 +/- 0.418, bounds=[-50:1000]>), ('lin', <Parameter 'lin', value=4.0401665491796024e-05 +/- 2.65e-06, bounds=[0:inf]>), ('mid', <Parameter 'mid', value=0.16109266832128943 +/- 0.138, bounds=[-inf:inf]>), ('theta', <Parameter 'theta', value=24.292990514771997 (fixed), bounds=[0.01:inf]>)]), init_params=Parameters([('amp', <Parameter 'amp', value=0.3277557114199119, bounds=[0:inf]>), ('const', <Parameter 'const', value=7.256241261322933, bounds=[-inf:inf]>), ('g', <Parameter 'g', value=0, bounds=[-50:1000]>), ('lin', <Parameter 'lin', value=6.056142522536945e-05, bounds=[0:inf]>), ('mid', <Parameter 'mid', value=0.6506405224762731, bounds=[-inf:inf]>), ('theta', <Parameter 'theta', value=24.292990514771997 (fixed), bounds=[0.01:inf]>)]), func_name='i_sense_digamma', func_code='def i_sense_digamma(x, mid, g, theta, amp, lin, const):\\n    from scipy.special import digamma  # FIXME: This is a temporary fix because I run fit code to initialize FitInfo\\n    arg = digamma(0.5 + (x - mid + 1j * g) / (2 * np.pi * 1j * theta))  # j is imaginary i\\n    return amp * (0.5 + np.imag(arg) / np.pi) + lin * (\\n                x - mid) + const - amp / 2  # -amp/2 so const term coincides with i_sense\\n', fit_report='[[Model]]\\n    Model(i_sense_digamma)\\n[[Fit Statistics]]\\n    # fitting method   = leastsq\\n    # function evals   = 31\\n    # data points      = 170\\n    # variables        = 5\\n    chi-square         = 2.5000e-04\\n    reduced chi-square = 1.5152e-06\\n    Akaike info crit   = -2273.07292\\n    Bayesian info crit = -2257.39392\\n[[Variables]]\\n    amp:    0.28793576 +/- 0.00162815 (0.57%) (init = 0.3277557)\\n    const:  7.05621194 +/- 1.1285e-04 (0.00%) (init = 7.256241)\\n    lin:    4.0402e-05 +/- 2.6530e-06 (6.57%) (init = 6.056143e-05)\\n    mid:    0.16109267 +/- 0.13776830 (85.52%) (init = 0.6506405)\\n    theta:  24.29299 (fixed)\\n    g:      10.2623049 +/- 0.41828473 (4.08%) (init = 0)\\n[[Correlations]] (unreported correlations are < 0.100)\\n    C(amp, lin)   =  0.972\\n    C(amp, g)     =  0.931\\n    C(lin, g)     =  0.854\\n    C(const, mid) = -0.510\\n    C(const, lin) = -0.220\\n    C(amp, const) = -0.177\\n    C(const, g)   = -0.133\\n    C(lin, mid)   =  0.118', model=<lmfit.Model: Model(i_sense_digamma)>, best_values=amp=0.28794\n",
       " const=7.0562\n",
       " g=10.262\n",
       " lin=4.0402e-05\n",
       " mid=0.16109\n",
       " theta=24.293\n",
       " , init_values=amp=0.32776\n",
       " const=7.2562\n",
       " g=0\n",
       " lin=6.0561e-05\n",
       " mid=0.65064\n",
       " theta=24.293\n",
       " , hash=1257178454279535165, fit_result=None),\n",
       " FitInfo(params=Parameters([('amp', <Parameter 'amp', value=0.2829597515318134 +/- 0.00169, bounds=[0:inf]>), ('const', <Parameter 'const', value=7.05622576665688 +/- 0.000118, bounds=[-inf:inf]>), ('g', <Parameter 'g', value=7.546578304017402 +/- 0.441, bounds=[-50:1000]>), ('lin', <Parameter 'lin', value=3.493582670377471e-05 +/- 2.77e-06, bounds=[0:inf]>), ('mid', <Parameter 'mid', value=0.15164167457765318 +/- 0.145, bounds=[-inf:inf]>), ('theta', <Parameter 'theta', value=25.507640040510598 (fixed), bounds=[0.01:inf]>)]), init_params=Parameters([('amp', <Parameter 'amp', value=0.3277557114199119, bounds=[0:inf]>), ('const', <Parameter 'const', value=7.256241261322933, bounds=[-inf:inf]>), ('g', <Parameter 'g', value=0, bounds=[-50:1000]>), ('lin', <Parameter 'lin', value=6.056142522536945e-05, bounds=[0:inf]>), ('mid', <Parameter 'mid', value=0.6506405224762731, bounds=[-inf:inf]>), ('theta', <Parameter 'theta', value=25.507640040510598 (fixed), bounds=[0.01:inf]>)]), func_name='i_sense_digamma', func_code='def i_sense_digamma(x, mid, g, theta, amp, lin, const):\\n    from scipy.special import digamma  # FIXME: This is a temporary fix because I run fit code to initialize FitInfo\\n    arg = digamma(0.5 + (x - mid + 1j * g) / (2 * np.pi * 1j * theta))  # j is imaginary i\\n    return amp * (0.5 + np.imag(arg) / np.pi) + lin * (\\n                x - mid) + const - amp / 2  # -amp/2 so const term coincides with i_sense\\n', fit_report='[[Model]]\\n    Model(i_sense_digamma)\\n[[Fit Statistics]]\\n    # fitting method   = leastsq\\n    # function evals   = 31\\n    # data points      = 170\\n    # variables        = 5\\n    chi-square         = 2.7514e-04\\n    reduced chi-square = 1.6675e-06\\n    Akaike info crit   = -2256.78629\\n    Bayesian info crit = -2241.10730\\n[[Variables]]\\n    amp:    0.28295975 +/- 0.00168666 (0.60%) (init = 0.3277557)\\n    const:  7.05622577 +/- 1.1843e-04 (0.00%) (init = 7.256241)\\n    lin:    3.4936e-05 +/- 2.7696e-06 (7.93%) (init = 6.056143e-05)\\n    mid:    0.15164167 +/- 0.14463583 (95.38%) (init = 0.6506405)\\n    theta:  25.50764 (fixed)\\n    g:      7.54657830 +/- 0.44102230 (5.84%) (init = 0)\\n[[Correlations]] (unreported correlations are < 0.100)\\n    C(amp, lin)   =  0.972\\n    C(amp, g)     =  0.932\\n    C(lin, g)     =  0.855\\n    C(const, mid) = -0.510\\n    C(const, lin) = -0.220\\n    C(amp, const) = -0.177\\n    C(const, g)   = -0.133\\n    C(lin, mid)   =  0.118', model=<lmfit.Model: Model(i_sense_digamma)>, best_values=amp=0.28296\n",
       " const=7.0562\n",
       " g=7.5466\n",
       " lin=3.4936e-05\n",
       " mid=0.15164\n",
       " theta=25.508\n",
       " , init_values=amp=0.32776\n",
       " const=7.2562\n",
       " g=0\n",
       " lin=6.0561e-05\n",
       " mid=0.65064\n",
       " theta=25.508\n",
       " , hash=1219663140993852390, fit_result=None),\n",
       " FitInfo(params=Parameters([('amp', <Parameter 'amp', value=0.27801538473137044 +/- 0.00174, bounds=[0:inf]>), ('const', <Parameter 'const', value=7.056239153438484 +/- 0.000124, bounds=[-inf:inf]>), ('g', <Parameter 'g', value=4.765250120306483 +/- 0.464, bounds=[-50:1000]>), ('lin', <Parameter 'lin', value=2.9511578255370097e-05 +/- 2.88e-06, bounds=[0:inf]>), ('mid', <Parameter 'mid', value=0.14257020845636023 +/- 0.151, bounds=[-inf:inf]>), ('theta', <Parameter 'theta', value=26.722289566249195 (fixed), bounds=[0.01:inf]>)]), init_params=Parameters([('amp', <Parameter 'amp', value=0.3277557114199119, bounds=[0:inf]>), ('const', <Parameter 'const', value=7.256241261322933, bounds=[-inf:inf]>), ('g', <Parameter 'g', value=0, bounds=[-50:1000]>), ('lin', <Parameter 'lin', value=6.056142522536945e-05, bounds=[0:inf]>), ('mid', <Parameter 'mid', value=0.6506405224762731, bounds=[-inf:inf]>), ('theta', <Parameter 'theta', value=26.722289566249195 (fixed), bounds=[0.01:inf]>)]), func_name='i_sense_digamma', func_code='def i_sense_digamma(x, mid, g, theta, amp, lin, const):\\n    from scipy.special import digamma  # FIXME: This is a temporary fix because I run fit code to initialize FitInfo\\n    arg = digamma(0.5 + (x - mid + 1j * g) / (2 * np.pi * 1j * theta))  # j is imaginary i\\n    return amp * (0.5 + np.imag(arg) / np.pi) + lin * (\\n                x - mid) + const - amp / 2  # -amp/2 so const term coincides with i_sense\\n', fit_report='[[Model]]\\n    Model(i_sense_digamma)\\n[[Fit Statistics]]\\n    # fitting method   = leastsq\\n    # function evals   = 31\\n    # data points      = 170\\n    # variables        = 5\\n    chi-square         = 3.0098e-04\\n    reduced chi-square = 1.8241e-06\\n    Akaike info crit   = -2241.52352\\n    Bayesian info crit = -2225.84453\\n[[Variables]]\\n    amp:    0.27801538 +/- 0.00174143 (0.63%) (init = 0.3277557)\\n    const:  7.05623915 +/- 1.2391e-04 (0.00%) (init = 7.256241)\\n    lin:    2.9512e-05 +/- 2.8807e-06 (9.76%) (init = 6.056143e-05)\\n    mid:    0.14257021 +/- 0.15138986 (106.19%) (init = 0.6506405)\\n    theta:  26.72229 (fixed)\\n    g:      4.76525012 +/- 0.46352044 (9.73%) (init = 0)\\n[[Correlations]] (unreported correlations are < 0.100)\\n    C(amp, lin)   =  0.971\\n    C(amp, g)     =  0.932\\n    C(lin, g)     =  0.856\\n    C(const, mid) = -0.511\\n    C(const, lin) = -0.220\\n    C(amp, const) = -0.177\\n    C(const, g)   = -0.134\\n    C(lin, mid)   =  0.117', model=<lmfit.Model: Model(i_sense_digamma)>, best_values=amp=0.27802\n",
       " const=7.0562\n",
       " g=4.7653\n",
       " lin=2.9512e-05\n",
       " mid=0.14257\n",
       " theta=26.722\n",
       " , init_values=amp=0.32776\n",
       " const=7.2562\n",
       " g=0\n",
       " lin=6.0561e-05\n",
       " mid=0.65064\n",
       " theta=26.722\n",
       " , hash=2229673959690506808, fit_result=None),\n",
       " FitInfo(params=Parameters([('amp', <Parameter 'amp', value=0.2731129206834313 +/- 0.00179, bounds=[0:inf]>), ('const', <Parameter 'const', value=7.056252101217531 +/- 0.000129, bounds=[-inf:inf]>), ('g', <Parameter 'g', value=1.9221856344916688 +/- 0.486, bounds=[-50:1000]>), ('lin', <Parameter 'lin', value=2.413999297479208e-05 +/- 2.99e-06, bounds=[0:inf]>), ('mid', <Parameter 'mid', value=0.1338481836345204 +/- 0.158, bounds=[-inf:inf]>), ('theta', <Parameter 'theta', value=27.936939091987796 (fixed), bounds=[0.01:inf]>)]), init_params=Parameters([('amp', <Parameter 'amp', value=0.3277557114199119, bounds=[0:inf]>), ('const', <Parameter 'const', value=7.256241261322933, bounds=[-inf:inf]>), ('g', <Parameter 'g', value=0, bounds=[-50:1000]>), ('lin', <Parameter 'lin', value=6.056142522536945e-05, bounds=[0:inf]>), ('mid', <Parameter 'mid', value=0.6506405224762731, bounds=[-inf:inf]>), ('theta', <Parameter 'theta', value=27.936939091987796 (fixed), bounds=[0.01:inf]>)]), func_name='i_sense_digamma', func_code='def i_sense_digamma(x, mid, g, theta, amp, lin, const):\\n    from scipy.special import digamma  # FIXME: This is a temporary fix because I run fit code to initialize FitInfo\\n    arg = digamma(0.5 + (x - mid + 1j * g) / (2 * np.pi * 1j * theta))  # j is imaginary i\\n    return amp * (0.5 + np.imag(arg) / np.pi) + lin * (\\n                x - mid) + const - amp / 2  # -amp/2 so const term coincides with i_sense\\n', fit_report='[[Model]]\\n    Model(i_sense_digamma)\\n[[Fit Statistics]]\\n    # fitting method   = leastsq\\n    # function evals   = 31\\n    # data points      = 170\\n    # variables        = 5\\n    chi-square         = 3.2734e-04\\n    reduced chi-square = 1.9839e-06\\n    Akaike info crit   = -2227.25270\\n    Bayesian info crit = -2211.57371\\n[[Variables]]\\n    amp:    0.27311292 +/- 0.00179222 (0.66%) (init = 0.3277557)\\n    const:  7.05625210 +/- 1.2927e-04 (0.00%) (init = 7.256241)\\n    lin:    2.4140e-05 +/- 2.9879e-06 (12.38%) (init = 6.056143e-05)\\n    mid:    0.13384818 +/- 0.15799153 (118.04%) (init = 0.6506405)\\n    theta:  27.93694 (fixed)\\n    g:      1.92218563 +/- 0.48567051 (25.27%) (init = 0)\\n[[Correlations]] (unreported correlations are < 0.100)\\n    C(amp, lin)   =  0.971\\n    C(amp, g)     =  0.933\\n    C(lin, g)     =  0.856\\n    C(const, mid) = -0.511\\n    C(const, lin) = -0.221\\n    C(amp, const) = -0.177\\n    C(const, g)   = -0.134\\n    C(lin, mid)   =  0.117', model=<lmfit.Model: Model(i_sense_digamma)>, best_values=amp=0.27311\n",
       " const=7.0563\n",
       " g=1.9222\n",
       " lin=2.414e-05\n",
       " mid=0.13385\n",
       " theta=27.937\n",
       " , init_values=amp=0.32776\n",
       " const=7.2562\n",
       " g=0\n",
       " lin=6.0561e-05\n",
       " mid=0.65064\n",
       " theta=27.937\n",
       " , hash=968567003613770127, fit_result=None),\n",
       " FitInfo(params=Parameters([('amp', <Parameter 'amp', value=0.26826149998591164 +/- 0.00184, bounds=[0:inf]>), ('const', <Parameter 'const', value=7.0562645970435405 +/- 0.000134, bounds=[-inf:inf]>), ('g', <Parameter 'g', value=-0.9789121713227047 +/- 0.507, bounds=[-50:1000]>), ('lin', <Parameter 'lin', value=1.8831062627677753e-05 +/- 3.09e-06, bounds=[0:inf]>), ('mid', <Parameter 'mid', value=0.12547945189290113 +/- 0.164, bounds=[-inf:inf]>), ('theta', <Parameter 'theta', value=29.151588617726397 (fixed), bounds=[0.01:inf]>)]), init_params=Parameters([('amp', <Parameter 'amp', value=0.3277557114199119, bounds=[0:inf]>), ('const', <Parameter 'const', value=7.256241261322933, bounds=[-inf:inf]>), ('g', <Parameter 'g', value=0, bounds=[-50:1000]>), ('lin', <Parameter 'lin', value=6.056142522536945e-05, bounds=[0:inf]>), ('mid', <Parameter 'mid', value=0.6506405224762731, bounds=[-inf:inf]>), ('theta', <Parameter 'theta', value=29.151588617726397 (fixed), bounds=[0.01:inf]>)]), func_name='i_sense_digamma', func_code='def i_sense_digamma(x, mid, g, theta, amp, lin, const):\\n    from scipy.special import digamma  # FIXME: This is a temporary fix because I run fit code to initialize FitInfo\\n    arg = digamma(0.5 + (x - mid + 1j * g) / (2 * np.pi * 1j * theta))  # j is imaginary i\\n    return amp * (0.5 + np.imag(arg) / np.pi) + lin * (\\n                x - mid) + const - amp / 2  # -amp/2 so const term coincides with i_sense\\n', fit_report='[[Model]]\\n    Model(i_sense_digamma)\\n[[Fit Statistics]]\\n    # fitting method   = leastsq\\n    # function evals   = 31\\n    # data points      = 170\\n    # variables        = 5\\n    chi-square         = 3.5403e-04\\n    reduced chi-square = 2.1456e-06\\n    Akaike info crit   = -2213.92857\\n    Bayesian info crit = -2198.24958\\n[[Variables]]\\n    amp:    0.26826150 +/- 0.00183885 (0.69%) (init = 0.3277557)\\n    const:  7.05626460 +/- 1.3448e-04 (0.00%) (init = 7.256241)\\n    lin:    1.8831e-05 +/- 3.0895e-06 (16.41%) (init = 6.056143e-05)\\n    mid:    0.12547945 +/- 0.16440515 (131.02%) (init = 0.6506405)\\n    theta:  29.15159 (fixed)\\n    g:     -0.97891217 +/- 0.50738230 (51.83%) (init = 0)\\n[[Correlations]] (unreported correlations are < 0.100)\\n    C(amp, lin)   =  0.971\\n    C(amp, g)     =  0.934\\n    C(lin, g)     =  0.857\\n    C(const, mid) = -0.511\\n    C(const, lin) = -0.221\\n    C(amp, const) = -0.177\\n    C(const, g)   = -0.134\\n    C(lin, mid)   =  0.117', model=<lmfit.Model: Model(i_sense_digamma)>, best_values=amp=0.26826\n",
       " const=7.0563\n",
       " g=-0.97891\n",
       " lin=1.8831e-05\n",
       " mid=0.12548\n",
       " theta=29.152\n",
       " , init_values=amp=0.32776\n",
       " const=7.2562\n",
       " g=0\n",
       " lin=6.0561e-05\n",
       " mid=0.65064\n",
       " theta=29.152\n",
       " , hash=186379160454040446, fit_result=None),\n",
       " FitInfo(params=Parameters([('amp', <Parameter 'amp', value=0.26346843047293445 +/- 0.00188, bounds=[0:inf]>), ('const', <Parameter 'const', value=7.056276626699082 +/- 0.00014, bounds=[-inf:inf]>), ('g', <Parameter 'g', value=-3.934713777051286 +/- 0.529, bounds=[-50:1000]>), ('lin', <Parameter 'lin', value=1.3592476300283707e-05 +/- 3.19e-06, bounds=[0:inf]>), ('mid', <Parameter 'mid', value=0.117494008404409 +/- 0.171, bounds=[-inf:inf]>), ('theta', <Parameter 'theta', value=30.366238143464997 (fixed), bounds=[0.01:inf]>)]), init_params=Parameters([('amp', <Parameter 'amp', value=0.3277557114199119, bounds=[0:inf]>), ('const', <Parameter 'const', value=7.256241261322933, bounds=[-inf:inf]>), ('g', <Parameter 'g', value=0, bounds=[-50:1000]>), ('lin', <Parameter 'lin', value=6.056142522536945e-05, bounds=[0:inf]>), ('mid', <Parameter 'mid', value=0.6506405224762731, bounds=[-inf:inf]>), ('theta', <Parameter 'theta', value=30.366238143464997 (fixed), bounds=[0.01:inf]>)]), func_name='i_sense_digamma', func_code='def i_sense_digamma(x, mid, g, theta, amp, lin, const):\\n    from scipy.special import digamma  # FIXME: This is a temporary fix because I run fit code to initialize FitInfo\\n    arg = digamma(0.5 + (x - mid + 1j * g) / (2 * np.pi * 1j * theta))  # j is imaginary i\\n    return amp * (0.5 + np.imag(arg) / np.pi) + lin * (\\n                x - mid) + const - amp / 2  # -amp/2 so const term coincides with i_sense\\n', fit_report='[[Model]]\\n    Model(i_sense_digamma)\\n[[Fit Statistics]]\\n    # fitting method   = leastsq\\n    # function evals   = 31\\n    # data points      = 170\\n    # variables        = 5\\n    chi-square         = 3.8088e-04\\n    reduced chi-square = 2.3084e-06\\n    Akaike info crit   = -2201.49880\\n    Bayesian info crit = -2185.81981\\n[[Variables]]\\n    amp:    0.26346843 +/- 0.00188127 (0.71%) (init = 0.3277557)\\n    const:  7.05627663 +/- 1.3953e-04 (0.00%) (init = 7.256241)\\n    lin:    1.3592e-05 +/- 3.1862e-06 (23.44%) (init = 6.056143e-05)\\n    mid:    0.11749401 +/- 0.17064422 (145.24%) (init = 0.6506405)\\n    theta:  30.36624 (fixed)\\n    g:     -3.93471378 +/- 0.52858418 (13.43%) (init = 0)\\n[[Correlations]] (unreported correlations are < 0.100)\\n    C(amp, lin)   =  0.971\\n    C(amp, g)     =  0.934\\n    C(lin, g)     =  0.857\\n    C(const, mid) = -0.512\\n    C(const, lin) = -0.221\\n    C(amp, const) = -0.177\\n    C(const, g)   = -0.134\\n    C(lin, mid)   =  0.116', model=<lmfit.Model: Model(i_sense_digamma)>, best_values=amp=0.26347\n",
       " const=7.0563\n",
       " g=-3.9347\n",
       " lin=1.3592e-05\n",
       " mid=0.11749\n",
       " theta=30.366\n",
       " , init_values=amp=0.32776\n",
       " const=7.2562\n",
       " g=0\n",
       " lin=6.0561e-05\n",
       " mid=0.65064\n",
       " theta=30.366\n",
       " , hash=1829625161671242383, fit_result=None)]"
      ]
     },
     "execution_count": 253,
     "metadata": {},
     "output_type": "execute_result"
    }
   ],
   "source": [
    "fit_gammas"
   ]
  },
  {
   "cell_type": "code",
   "execution_count": 223,
   "metadata": {},
   "outputs": [],
   "source": [
    "fig.write_html(f'Exports/Theta_vs_gamma_dats_{dats_cc[0].datnum}_{dats_cc[-1].datnum}.html')"
   ]
  },
  {
   "cell_type": "code",
   "execution_count": 233,
   "metadata": {},
   "outputs": [],
   "source": [
    "def find_intercept(x1, y1, x2, y2):\n",
    "    '''The idea is to get two (linear) datasets, fit them, and return their intercept'''\n",
    "    x1 = np.array(x1, dtype=np.float)\n",
    "    y1 = np.array(y1, dtype=np.float)\n",
    "    x2 = np.array(x2, dtype=np.float)\n",
    "    y2 = np.array(y2, dtype=np.float)\n",
    "    fit1 = np.polyfit(x1, y1, 1)\n",
    "    fit2 = np.polyfit(x2, y2, 1)\n",
    "    xint = (fit2[1] - fit1[1])/(fit1[0] - fit2[0])\n",
    "    yint = np.polyval(fit1, [xint])[0]\n",
    "    return (xint, yint)"
   ]
  },
  {
   "cell_type": "code",
   "execution_count": 234,
   "metadata": {},
   "outputs": [
    {
     "name": "stderr",
     "output_type": "stream",
     "text": [
      "100% (29 of 29) |########################| Elapsed Time: 0:00:18 Time:  0:00:18\n"
     ]
    }
   ],
   "source": [
    "escs = [dat.Logs.fds[\"ESC\"] for dat in dats][0:29]\n",
    "xints = []\n",
    "xints_std = []\n",
    "\n",
    "for esc in progressbar(escs):\n",
    "    dats_cc = []\n",
    "    for dat in dats:\n",
    "        if dat.Logs.fds[\"ESC\"] == esc:\n",
    "            dats_cc.append(dat)\n",
    "    thetafit = np.array([ 0.09579436, 65.78364881])\n",
    "    dats_cc_temps = np.array([dat.Logs.temps.mc for dat in dats_cc])\n",
    "    dats_cc_thetas = np.polyval(thetafit, [esc])[0]*(dats_cc_temps/0.1)\n",
    "\n",
    "    gamma_params = edit_params(new_pars, param_name='g', value=0, vary=True)\n",
    "    xx = []\n",
    "    yy = []\n",
    "    xint_sf = []\n",
    "    for i, dat in enumerate(dats_cc):\n",
    "        theta = dats_cc_thetas[i]\n",
    "        theta_range = [theta + j*0.05*theta for j in range(-5, 6)]\n",
    "        fit_gammas = [narrow_fit_trans_only(dat,\n",
    "                                            5000,\n",
    "                                            initial_params=edit_params(gamma_params, param_name='theta', value=theta, vary=False), \n",
    "                                            fit_func=i_sense_digamma, \n",
    "                                            check_exists=False).best_values.g for theta in theta_range]\n",
    "        fig.add_trace(go.Scatter(mode='lines', x=theta_range/dat.Logs.temps.mc, y=fit_gammas, name=f'T = {dat.Logs.temps.mc:.2f}K'))\n",
    "\n",
    "        for i in range(len(xx)):\n",
    "            xint, yint = find_intercept(theta_range/dat.Logs.temps.mc, fit_gammas, xx[i], yy[i])\n",
    "            xint_sf.append(xint)\n",
    "            \n",
    "\n",
    "        xx.append(theta_range/dat.Logs.temps.mc)\n",
    "        yy.append(fit_gammas)\n",
    "     \n",
    "    xints.append(np.mean(xint_sf))\n",
    "    xints_std.append(np.std(xint_sf))"
   ]
  },
  {
   "cell_type": "code",
   "execution_count": 235,
   "metadata": {},
   "outputs": [],
   "source": [
    "fig = go.Figure()\n",
    "\n",
    "fig.add_trace(go.Scatter(mode='markers', \n",
    "                         x=escs, \n",
    "                         y=xints, \n",
    "                         error_y=dict(type='data', # value of error bar given in data coordinates\n",
    "                                      array=xints_std,\n",
    "                                      visible=True)))\n",
    "\n",
    "fig.update_layout(xaxis_title='ESC/mV', yaxis_title='Theta/Tmc [mV/mK]',\n",
    "                      title=f'')\n",
    "fig.show(renderer=\"chrome\")"
   ]
  },
  {
   "cell_type": "code",
   "execution_count": 236,
   "metadata": {},
   "outputs": [],
   "source": [
    "fig.write_html(f'Exports/Theta_vs_coupling_dats_{dats[0].datnum}_{dats[-1].datnum}.html')"
   ]
  },
  {
   "cell_type": "code",
   "execution_count": null,
   "metadata": {},
   "outputs": [],
   "source": []
  },
  {
   "cell_type": "code",
   "execution_count": null,
   "metadata": {},
   "outputs": [],
   "source": []
  },
  {
   "cell_type": "code",
   "execution_count": null,
   "metadata": {},
   "outputs": [],
   "source": []
  },
  {
   "cell_type": "code",
   "execution_count": null,
   "metadata": {},
   "outputs": [],
   "source": []
  },
  {
   "cell_type": "code",
   "execution_count": null,
   "metadata": {},
   "outputs": [],
   "source": []
  },
  {
   "cell_type": "code",
   "execution_count": null,
   "metadata": {},
   "outputs": [],
   "source": []
  },
  {
   "cell_type": "code",
   "execution_count": null,
   "metadata": {},
   "outputs": [],
   "source": []
  },
  {
   "cell_type": "code",
   "execution_count": null,
   "metadata": {},
   "outputs": [],
   "source": []
  },
  {
   "cell_type": "code",
   "execution_count": 28,
   "metadata": {},
   "outputs": [],
   "source": [
    "def digamma_multiple(params, xxs, yys, ts):\n",
    "    '''allows for fitting multiple datasets'''\n",
    "    rsf = np.array([])\n",
    "    for i, origx, origy, t in zip(range(len(xxs)), xxs, yys, ts):\n",
    "        x = np.copy(origx)\n",
    "        y = np.copy(origy)\n",
    "\n",
    "        start_ind = np.nanargmin(np.abs(np.add(x, 3000)))\n",
    "        end_ind = np.nanargmin(np.abs(np.subtract(x, 3000)))\n",
    "\n",
    "        x[:start_ind] = [np.nan] * start_ind\n",
    "        x[end_ind:] = [np.nan] * (len(x) - end_ind)\n",
    "\n",
    "        y[:start_ind] = [np.nan] * start_ind\n",
    "        y[end_ind:] = [np.nan] * (len(y) - end_ind)\n",
    "        \n",
    "        rsf = np.concatenate((rsf, y - i_sense_digamma_amplin(x, params[f'mid{i}'], params['g'], params['theta']*t, params[f'amp{i}'], params[f'lin{i}'], params[f'const{i}'], params[f'amplin{i}'])))  \n",
    "    return rsf"
   ]
  },
  {
   "cell_type": "code",
   "execution_count": 12,
   "metadata": {},
   "outputs": [],
   "source": [
    "from lmfit import minimize\n",
    "from lmfit import Parameters"
   ]
  },
  {
   "cell_type": "code",
   "execution_count": 75,
   "metadata": {},
   "outputs": [
    {
     "name": "stderr",
     "output_type": "stream",
     "text": [
      "100% (29 of 29) |########################| Elapsed Time: 0:01:21 Time:  0:01:21\n"
     ]
    }
   ],
   "source": [
    "amp=0.26347\n",
    "const=7.0563\n",
    "g=50\n",
    "lin=1.3592e-05\n",
    "mid=0.11749\n",
    "theta=30.366\n",
    "\n",
    "escs = [dat.Logs.fds[\"ESC\"] for dat in dats][0:29]\n",
    "thetas = []\n",
    "fits = []\n",
    "for esc in progressbar(escs):\n",
    "    dats_cc = []\n",
    "    for dat in dats:\n",
    "        if np.isclose(dat.Logs.fds[\"ESC\"], esc, atol=0.6): #and (np.isclose(0.05, dat.Logs.temps.mc, atol=0.05) \n",
    "#                                            or np.isclose(0.1, dat.Logs.temps.mc, atol=0.05)\n",
    "#                                            or np.isclose(0.2, dat.Logs.temps.mc, atol=0.05)\n",
    "#                                            or np.isclose(0.3, dat.Logs.temps.mc, atol=0.05)):\n",
    "            dats_cc.append(dat)\n",
    "\n",
    "    params = Parameters()\n",
    "    # add with tuples: (NAME VALUE VARY MIN  MAX  EXPR  BRUTE_STEP)\n",
    "    for i in range(len(dats_cc)):\n",
    "        params.add_many((f'amp{i}', amp, True, 0, None, None, None),\n",
    "                        (f'const{i}', const, True, None, None, None, None),\n",
    "                        (f'lin{i}', lin, True, None, None, None, None),\n",
    "                        (f'mid{i}', mid, True, None, None, None, None), \n",
    "                        (f'amplin{i}', lin, True, None, None, None, None))\n",
    "\n",
    "    params.add_many(('theta', theta, True, 0, None, None, None),\n",
    "                    ('g', g, True, 0, None, None, None))\n",
    "\n",
    "    if esc > -180:\n",
    "        xxs = [dat.Transition.avg_x for dat in dats_cc]\n",
    "        yys = [np.nanmean(dat.Transition.data, axis=0) for dat in dats_cc]\n",
    "    else:\n",
    "        xxs = [dat.Transition.avg_x for dat in dats_cc]\n",
    "        yys = [dat.Transition.avg_data for dat in dats_cc]\n",
    "    \n",
    "    ts = [dat.Logs.temps.mc for dat in dats_cc]\n",
    "\n",
    "    args = (xxs, yys, ts)\n",
    "\n",
    "    res = minimize(digamma_multiple, params, \n",
    "             args = args,\n",
    "             nan_policy='omit')\n",
    "    thetas.append(res.params['theta'].value*0.1)\n",
    "    fits.append(res.params)\n",
    "    \n",
    "    fig = go.Figure()\n",
    "    for i, dat in enumerate(dats_cc):\n",
    "        params = res.params\n",
    "        if esc > -180:\n",
    "            xx = dat.Transition.avg_x\n",
    "            yy = np.nanmean(dat.Transition.data, axis=0)\n",
    "        else:\n",
    "            xx = dat.Transition.avg_x\n",
    "            yy = dat.Transition.avg_data\n",
    "        t = dat.Logs.temps.mc\n",
    "        xfit = np.linspace(-3000,3000,1001)\n",
    "        yfit = i_sense_digamma_amplin(xfit, params[f'mid{i}'], params['g'], params['theta']*t, params[f'amp{i}'], params[f'lin{i}'], params[f'const{i}'], params[f'amplin{i}'])\n",
    "        fig.add_trace(go.Scatter(mode='markers', x=xx, y=yy, name=f'T = {dat.Logs.temps.mc:.2f}, {dat.datnum}d'))\n",
    "        fig.add_trace(go.Scatter(mode='lines', x=xfit, y=yfit, name=f'{dat.datnum}f', marker_color='grey'))\n",
    "    \n",
    "    fig.update_layout(xaxis_title='ACC*1000 /mV', yaxis_title='Isense /nA',\n",
    "                      title=f'ESC = {esc}')\n",
    "\n",
    "    if esc > -180:\n",
    "        pass\n",
    "#     fig.show(renderer=\"chrome\")\n",
    "#     fig.write_html(f'Exports/All_transitions_dats_{dats_cc[0].datnum}_{dats_cc[-1].datnum}_esc_{esc}.html')"
   ]
  },
  {
   "cell_type": "code",
   "execution_count": 45,
   "metadata": {},
   "outputs": [],
   "source": [
    "fig = go.Figure()\n",
    "\n",
    "fig.add_trace(go.Scatter(mode='markers+lines', \n",
    "                         x=escs, \n",
    "                         y=thetas,\n",
    "                         error_y=dict(type='data', # value of error bar given in data coordinates\n",
    "                                      array=np.array([f['theta'].stderr for f in fits], dtype=np.float),\n",
    "                                      visible=True)))\n",
    "\n",
    "fig.update_layout(xaxis_title='ESC/mV', yaxis_title='Theta /mV',\n",
    "                      title=f'Lever Arm vs Coupling gate')\n",
    "\n",
    "fig.show(renderer=\"chrome\")"
   ]
  },
  {
   "cell_type": "code",
   "execution_count": 31,
   "metadata": {},
   "outputs": [],
   "source": [
    "fig.write_html(f'Exports/Theta_vs_coupling_dats_{dats[0].datnum}_{dats[-1].datnum}_simul_fitting.html')"
   ]
  },
  {
   "cell_type": "code",
   "execution_count": 64,
   "metadata": {},
   "outputs": [],
   "source": [
    "gammas = [f['g'].value for f in fits]\n",
    "\n",
    "fig = go.Figure()\n",
    "\n",
    "fig.add_trace(go.Scatter(mode='markers+lines', \n",
    "                         x=escs, \n",
    "                         y=gammas,\n",
    "                         error_y=dict(type='data', # value of error bar given in data coordinates\n",
    "                                      array=np.array([f['g'].stderr for f in fits], dtype=np.float),\n",
    "                                      visible=True)))\n",
    "\n",
    "fig.update_layout(xaxis_title='ESC/mV', yaxis_title='Gamma /mV',\n",
    "                      title=f'Gamma vs Coupling gate')\n",
    "\n",
    "fig.show(renderer=\"chrome\")"
   ]
  },
  {
   "cell_type": "code",
   "execution_count": 33,
   "metadata": {},
   "outputs": [],
   "source": [
    "fig.write_html(f'Exports/Gamma_vs_coupling_dats_{dats[0].datnum}_{dats[-1].datnum}_simul_fitting.html')"
   ]
  },
  {
   "cell_type": "code",
   "execution_count": 70,
   "metadata": {},
   "outputs": [],
   "source": [
    "fig = go.Figure()\n",
    "\n",
    "data = []\n",
    "escs_more = []\n",
    "err = []\n",
    "p = 'amplin'\n",
    "for fit, esc in zip(fits, escs):\n",
    "    dats_cc = []\n",
    "    for dat in dats:\n",
    "        if np.isclose(dat.Logs.fds[\"ESC\"], esc, atol=0.6):\n",
    "            dats_cc.append(dat)\n",
    "            \n",
    "    for i in range(len(dats_cc)):\n",
    "        data.append(fit[p + f'{i}'].value)\n",
    "        escs_more.append(esc)\n",
    "        err.append(fit[p + f'{i}'].stderr)\n",
    "\n",
    "fig.add_trace(go.Scatter(mode='markers+lines', \n",
    "                         x=escs_more, \n",
    "                         y=data,\n",
    "                         error_y=dict(type='data', # value of error bar given in data coordinates\n",
    "                                      array=np.array(err, dtype=np.float),\n",
    "                                      visible=True)))\n",
    "\n",
    "\n",
    "fig.update_layout(xaxis_title='ESC/mV', yaxis_title=p,\n",
    "                      title= p + f' vs Coupling gate')\n",
    "\n",
    "fig.show(renderer=\"chrome\")"
   ]
  },
  {
   "cell_type": "code",
   "execution_count": 69,
   "metadata": {},
   "outputs": [
    {
     "data": {
      "text/plain": [
       "odict_keys(['amp0', 'const0', 'lin0', 'mid0', 'amplin0', 'amp1', 'const1', 'lin1', 'mid1', 'amplin1', 'amp2', 'const2', 'lin2', 'mid2', 'amplin2', 'amp3', 'const3', 'lin3', 'mid3', 'amplin3', 'amp4', 'const4', 'lin4', 'mid4', 'amplin4', 'theta', 'g'])"
      ]
     },
     "execution_count": 69,
     "metadata": {},
     "output_type": "execute_result"
    }
   ],
   "source": [
    "fits[0].keys()"
   ]
  },
  {
   "cell_type": "code",
   "execution_count": null,
   "metadata": {},
   "outputs": [],
   "source": []
  },
  {
   "cell_type": "code",
   "execution_count": null,
   "metadata": {},
   "outputs": [],
   "source": []
  },
  {
   "cell_type": "code",
   "execution_count": null,
   "metadata": {},
   "outputs": [],
   "source": []
  },
  {
   "cell_type": "code",
   "execution_count": null,
   "metadata": {},
   "outputs": [],
   "source": []
  },
  {
   "cell_type": "code",
   "execution_count": null,
   "metadata": {},
   "outputs": [],
   "source": []
  },
  {
   "cell_type": "code",
   "execution_count": null,
   "metadata": {},
   "outputs": [],
   "source": []
  },
  {
   "cell_type": "code",
   "execution_count": null,
   "metadata": {},
   "outputs": [],
   "source": []
  },
  {
   "cell_type": "code",
   "execution_count": null,
   "metadata": {},
   "outputs": [],
   "source": []
  },
  {
   "cell_type": "code",
   "execution_count": null,
   "metadata": {},
   "outputs": [],
   "source": []
  },
  {
   "cell_type": "code",
   "execution_count": null,
   "metadata": {},
   "outputs": [],
   "source": []
  },
  {
   "cell_type": "code",
   "execution_count": null,
   "metadata": {},
   "outputs": [],
   "source": []
  },
  {
   "cell_type": "code",
   "execution_count": null,
   "metadata": {},
   "outputs": [],
   "source": []
  },
  {
   "cell_type": "code",
   "execution_count": null,
   "metadata": {},
   "outputs": [],
   "source": []
  },
  {
   "cell_type": "code",
   "execution_count": null,
   "metadata": {},
   "outputs": [],
   "source": []
  },
  {
   "cell_type": "code",
   "execution_count": 892,
   "metadata": {},
   "outputs": [],
   "source": [
    "fig = go.Figure()\n",
    "\n",
    "fig.add_trace(go.Scatter(mode='markers', x=ips, text=datnums, y=deltaT, name=\"Entropy fits\"))\n",
    "\n",
    "fig.update_layout(xaxis_title='IP1*200 /mV', yaxis_title='deltaT /mV',\n",
    "                      title=f'Dats {dats[0].datnum} - {dats[-1].datnum}')\n",
    "fig.show(renderer=\"browser\")"
   ]
  },
  {
   "cell_type": "code",
   "execution_count": 186,
   "metadata": {},
   "outputs": [
    {
     "data": {
      "text/plain": [
       "0.9546627984681944"
      ]
     },
     "execution_count": 186,
     "metadata": {},
     "output_type": "execute_result"
    }
   ],
   "source": [
    "np.mean(deltaT[0:4])"
   ]
  },
  {
   "cell_type": "code",
   "execution_count": null,
   "metadata": {},
   "outputs": [],
   "source": [
    "fig.write_html(f'Exports/dT_03_17_dats{datnums[0]}_{datnums[-1]}.html')"
   ]
  },
  {
   "cell_type": "code",
   "execution_count": 870,
   "metadata": {},
   "outputs": [],
   "source": [
    "fig = go.Figure()\n",
    "\n",
    "fig.add_trace(go.Scatter(mode='markers', x=ips, y=amp_digamma_cold, text=datnums, name=\"Transition fits\"))\n",
    "\n",
    "fig.update_layout(xaxis_title='IP1*200 /mV', yaxis_title='Amplitude /mV',\n",
    "                      title=f'Dats {dats[0].datnum} - {dats[-1].datnum}')\n",
    "fig.show(renderer=\"browser\")"
   ]
  },
  {
   "cell_type": "code",
   "execution_count": 122,
   "metadata": {},
   "outputs": [
    {
     "data": {
      "text/plain": [
       "0.36157357430913073"
      ]
     },
     "execution_count": 122,
     "metadata": {},
     "output_type": "execute_result"
    }
   ],
   "source": [
    "np.mean(amp_digamma_cold[0:4])"
   ]
  },
  {
   "cell_type": "code",
   "execution_count": 1153,
   "metadata": {},
   "outputs": [],
   "source": [
    "fig.write_html(f'Exports/Ampl_03_17_dats{datnums[0]}_{datnums[-1]}.html')"
   ]
  },
  {
   "cell_type": "code",
   "execution_count": 871,
   "metadata": {},
   "outputs": [],
   "source": [
    "fig = go.Figure()\n",
    "\n",
    "fig.add_trace(go.Scatter(mode='markers', x=ips, y=theta_digamma_, text=datnums, name=\"Transition fits\"))\n",
    "\n",
    "fig.update_layout(xaxis_title='IP1*200 /mV', yaxis_title='Theta /mV',\n",
    "                      title=f'Dats {dats[0].datnum} - {dats[-1].datnum}')\n",
    "fig.show(renderer=\"chrome\")"
   ]
  },
  {
   "cell_type": "code",
   "execution_count": 893,
   "metadata": {},
   "outputs": [
    {
     "name": "stderr",
     "output_type": "stream",
     "text": [
      "| |    #                                             | 10 Elapsed Time: 0:00:00\n"
     ]
    }
   ],
   "source": [
    "fig = go.Figure()\n",
    "for i, dat in progressbar(enumerate(dats)):\n",
    "    x = dat.SquareEntropy.avg_x\n",
    "    y = dat.SquareEntropy.default_Output.averaged\n",
    "    ycold = np.mean(y[(0, 2), :], axis=0)\n",
    "    yhot = np.mean(y[(1, 3), :], axis=0)\n",
    "    xfit = np.linspace(-100,100,1001)\n",
    "    fit = narrow_fit(\n",
    "            dat,\n",
    "            400,\n",
    "            initial_params=new_pars, \n",
    "            fit_func=i_sense_digamma, \n",
    "            check_exists=False)\n",
    "    yfit = fit.eval_fit(xfit) - fit.best_values.lin*xfit\n",
    "#     fig.add_trace(go.Scatter(mode='markers', x=x, y=ycold - fit.best_values.lin*x, name=f'{datnums[i]}d_cold'))\n",
    "#     fig.add_trace(go.Scatter(mode='markers', x=x, y=yhot - fit.best_values.lin*x, name=f'{datnums[i]}d_hot'))\n",
    "    fig.add_trace(go.Scatter(mode='markers', x=x, y=y[0, :] - fit.best_values.lin*x, name=f'{datnums[i]}d_v0_0'))\n",
    "    fig.add_trace(go.Scatter(mode='markers', x=x, y=y[1, :] - fit.best_values.lin*x, name=f'{datnums[i]}d_vp'))\n",
    "    fig.add_trace(go.Scatter(mode='markers', x=x, y=y[2, :] - fit.best_values.lin*x, name=f'{datnums[i]}d_v_0_1'))\n",
    "    fig.add_trace(go.Scatter(mode='markers', x=x, y=y[3, :] - fit.best_values.lin*x, name=f'{datnums[i]}d_vm'))\n",
    "    fig.add_trace(go.Scatter(mode='lines', x=xfit, y=yfit, name=f'{datnums[i]}f', marker_color='grey'))\n",
    "fig.update_layout(xaxis_title=dats[0].Logs.xlabel, yaxis_title='Current /nA',\n",
    "                      title=f'Dat {dats[0].datnum} - {dats[-1].datnum}')\n",
    "fig.show(renderer=\"browser\")"
   ]
  },
  {
   "cell_type": "code",
   "execution_count": 882,
   "metadata": {},
   "outputs": [
    {
     "data": {
      "text/plain": [
       "20.0"
      ]
     },
     "execution_count": 882,
     "metadata": {},
     "output_type": "execute_result"
    }
   ],
   "source": [
    "dats[0].SquareEntropy.square_awg.max(0)"
   ]
  },
  {
   "cell_type": "code",
   "execution_count": 85,
   "metadata": {},
   "outputs": [],
   "source": [
    "fig.write_html(f'Exports/Cold_hot_transitions_plus_fit_dats{dats[0].datnum}_{dats[-1].datnum}.html')"
   ]
  },
  {
   "cell_type": "code",
   "execution_count": 872,
   "metadata": {},
   "outputs": [],
   "source": [
    "ampl = [0.34 for dat in dats] #0.44\n",
    "deltaT = [4.9 for dat in dats] #0.96\n",
    "for i, dat in enumerate(dats):\n",
    "    dat.Entropy.set_integration_info(dT=deltaT[i], amp=ampl[i], overwrite=True)"
   ]
  },
  {
   "cell_type": "code",
   "execution_count": 873,
   "metadata": {},
   "outputs": [
    {
     "name": "stdout",
     "output_type": "stream",
     "text": [
      "56.12783727913989\n"
     ]
    }
   ],
   "source": [
    "fig = go.Figure()\n",
    "int_ents = []\n",
    "int_ents_2d = []\n",
    "int_ents_peaks = []\n",
    "for i in range(len(dats)):\n",
    "    width = dat.Entropy.get_fit(which='avg', name=\"SPS.01\", check_exists=True).best_values.theta*10\n",
    "#     width = g_digamma_[i]*1\n",
    "    center = dat.Entropy.get_fit(which='avg', name=\"SPS.01\", check_exists=True).best_values.mid\n",
    "    indstart = np.argmin(np.abs(np.subtract(out[i].x, center-width)))\n",
    "    indend = np.argmin(np.abs(np.subtract(out[i].x, center+width)))\n",
    "    \n",
    "    int_ent = integrate_entropy(out[i].average_entropy_signal, dats[i].Entropy.integration_info.sf)\n",
    "    int_ents_2d.append(int_ent)\n",
    "    int_ents_peaks.append(max(int_ent))\n",
    "    int_ents.append(int_ent[indend] - int_ent[indstart])\n",
    "    fig.add_trace(go.Scatter(mode='markers', \n",
    "                             x=np.subtract(out[i].x, mids_digamma_[i]), \n",
    "                             y=int_ent,\n",
    "                             text=f'Int Ent = {int_ents[i]:.2f}',\n",
    "                             name= f'dat{dats[i].datnum}, IP*200:{dats[i].Logs.fds[\"IP1*200\"]}'))\n",
    "\n",
    "fig.update_layout(xaxis_title=dats[0].Logs.xlabel, yaxis_title='Entropy /kb',\n",
    "                      title=f'Dats {dats[0].datnum} - {dats[-1].datnum}')\n",
    "fig.show(renderer='chrome')\n",
    "print(width)"
   ]
  },
  {
   "cell_type": "code",
   "execution_count": 287,
   "metadata": {},
   "outputs": [],
   "source": [
    "fig.write_html(f'Exports/IntEntropy_03_22_dats{dats[0].datnum}_{dats[-1].datnum}.html')"
   ]
  },
  {
   "cell_type": "code",
   "execution_count": 874,
   "metadata": {},
   "outputs": [],
   "source": [
    "ents = [dat.Entropy.get_fit(which='avg', name=\"SPS.01\", check_exists=True).best_values.dS for dat in dats]\n",
    "fig = go.Figure()\n",
    "fig.add_trace(go.Scatter(mode='markers', \n",
    "                         x=ips, y=int_ents, \n",
    "                         text=datnums, \n",
    "                         name=\"Int\",\n",
    "                         marker=dict(color='LightSkyBlue',\n",
    "                                     size=10,\n",
    "                                     line=dict(color='DarkSlateGrey',\n",
    "                                               width=2))))\n",
    "fig.add_trace(go.Scatter(mode='markers', \n",
    "                         x=ips, y=ents, \n",
    "                         text=datnums, \n",
    "                         name=\"Fit\",\n",
    "                         marker=dict(color='Brown',\n",
    "                                     size=10,\n",
    "                                     line=dict(color='DarkSlateGrey',\n",
    "                                               width=2))))\n",
    "fig.add_trace(go.Scatter(mode='markers', \n",
    "                         x=ips, y=int_ents_peaks, \n",
    "                         text=datnums, \n",
    "                         name=\"Integrated Peak\",\n",
    "                         marker=dict(color='Green',\n",
    "                                     size=10,\n",
    "                                     line=dict(color='DarkSlateGrey',\n",
    "                                               width=2))))\n",
    "\n",
    "\n",
    "fig.update_layout(xaxis_title=\"IP1*200 /mV\", yaxis_title='Entropy /kb',\n",
    "                      title=f'Integrated -- Dats {dats[0].datnum} - {dats[-1].datnum}')\n",
    "fig.show(renderer=\"chrome\")"
   ]
  },
  {
   "cell_type": "code",
   "execution_count": 636,
   "metadata": {},
   "outputs": [],
   "source": [
    "fig.write_html(f'Exports/IntEntropyvalues_03_24_dats{datnums[0]}_{datnums[-1]}.html')"
   ]
  },
  {
   "cell_type": "code",
   "execution_count": 261,
   "metadata": {},
   "outputs": [],
   "source": [
    "fig = go.Figure()\n",
    "fig.add_trace(go.Scatter(mode='markers', \n",
    "                         x=ips, y=np.subtract(int_ents_peaks,int_ents), \n",
    "                         text=datnums, \n",
    "                         name=\"Peak-Int\",\n",
    "                         marker=dict(color='Green',\n",
    "                                     size=10,\n",
    "                                     line=dict(color='DarkSlateGrey',\n",
    "                                               width=2))))\n",
    "\n",
    "fig.update_layout(xaxis_title='IP1*200 /mV', yaxis_title='Entropy /kb',\n",
    "                      title=f'Integrated -- Dats {dats[0].datnum} - {dats[-1].datnum}')\n",
    "fig.show(renderer=\"browser\")"
   ]
  },
  {
   "cell_type": "code",
   "execution_count": 622,
   "metadata": {},
   "outputs": [],
   "source": [
    "fig = go.Figure()\n",
    "for i in range(len(dats)):\n",
    "    enty = out[i].average_entropy_signal\n",
    "    entx = out[i].x\n",
    "    fitent = dats[i].Entropy.get_fit(which='avg', name=\"SPS.01\", check_exists=True).eval_fit(entx)\n",
    "    ent = dats[i].Entropy.get_fit(which='avg', name=\"SPS.01\", check_exists=True).best_values.dS\n",
    "    fig.add_trace(go.Scatter(mode='markers', \n",
    "                             x=entx,\n",
    "                             y=enty,\n",
    "                             name= f'dat{dats[i].datnum}, IP*200:{dats[i].Logs.fds[\"IP1*200\"]}'))\n",
    "    \n",
    "    fig.add_trace(go.Scatter(mode='lines', x=entx, y=fitent, name=f'{datnums[i]}f, {ent}', marker_color='grey'))\n",
    "\n",
    "fig.update_layout(xaxis_title=dats[0].Logs.xlabel, yaxis_title='Entropy /kb',\n",
    "                      title=f'Dats {dats[0].datnum} - {dats[-1].datnum}')\n",
    "fig.show(renderer='chrome')"
   ]
  },
  {
   "cell_type": "code",
   "execution_count": 417,
   "metadata": {},
   "outputs": [],
   "source": [
    "fig.write_html(f'Exports/FitEntropy_03_23_dats{datnums[0]}_{datnums[-1]}.html')"
   ]
  },
  {
   "cell_type": "code",
   "execution_count": 801,
   "metadata": {},
   "outputs": [],
   "source": [
    "entz_2d = [out[i].average_entropy_signal for i in range(len(dats))]"
   ]
  },
  {
   "cell_type": "code",
   "execution_count": 839,
   "metadata": {},
   "outputs": [],
   "source": [
    "fig = go.Figure()\n",
    "fig.add_trace(go.Heatmap(\n",
    "                    z=int_ents_2d, x=out[0].x, y=[ips[j] for j in range(len(dats))],\n",
    "                    colorscale='RdBu', zmid=0, zmax=2, zmin=-2)\n",
    "             )\n",
    "fig.update_layout(xaxis_title='ACC*100, IP1*200 /mV', yaxis_title='IP1*200',\n",
    "                      title=f'Dats {dats[0].datnum} - {dats[-1].datnum}, IS = {dats[0].Logs.bds[\"IS\"]}')\n",
    "fig.show(renderer='chrome')"
   ]
  },
  {
   "cell_type": "code",
   "execution_count": 639,
   "metadata": {},
   "outputs": [],
   "source": [
    "fig.write_html(f'Exports/dndt_2d_dats{datnums[0]}_{datnums[-1]}.html')"
   ]
  },
  {
   "cell_type": "code",
   "execution_count": 623,
   "metadata": {},
   "outputs": [
    {
     "name": "stderr",
     "output_type": "stream",
     "text": [
      "100% (17 of 17) |########################| Elapsed Time: 0:00:04 Time:  0:00:04\n"
     ]
    }
   ],
   "source": [
    "centers = [dat.SquareEntropy.get_fit(data=dat.Data.get_data('Experiment Copy/cscurrent_2d')[0],\n",
    "                                     name=\"Centers\",\n",
    "                                     x=dat.Data.get_data('Experiment Copy/x_array'),\n",
    "                                     which_fit='transition', \n",
    "                                     check_exists=False).best_values.mid\n",
    "for dat in progressbar(dats)]"
   ]
  },
  {
   "cell_type": "code",
   "execution_count": 624,
   "metadata": {},
   "outputs": [],
   "source": [
    "occ_data = get_dat(5055)\n",
    "data = occ_data.Data.get_data('Experiment Copy/cscurrent_2d')\n",
    "x=occ_data.Data.get_data('Experiment Copy/x_array')\n",
    "y=occ_data.Data.get_data('Experiment Copy/y_array')\n",
    "accs = [dat.Logs.fds[\"ACC*100\"] for dat in dats]"
   ]
  },
  {
   "cell_type": "code",
   "execution_count": 625,
   "metadata": {},
   "outputs": [],
   "source": [
    "fig = go.Figure()\n",
    "ips_other = np.array(ips)\n",
    "fig.add_trace(go.Heatmap(\n",
    "                    z=np.diff(data), x=x[:-1], y=y))\n",
    "fig.add_trace(go.Scatter(mode='markers', \n",
    "                         x=centers, y=ips_other, \n",
    "                         text=[dat.datnum for dat in dats],\n",
    "                         marker_color=\"White\"))\n",
    "fig.update_layout(xaxis_title='ACC*100 /mV', yaxis_title='IP1*200',\n",
    "                      title=f'Dats {dats[0].datnum} - {dats[-1].datnum}, dat{occ_data.datnum}')\n",
    "fig.show(renderer='chrome')"
   ]
  },
  {
   "cell_type": "code",
   "execution_count": 415,
   "metadata": {},
   "outputs": [],
   "source": [
    "fig.write_html(f'Exports/Along_occ_03_21_{dats[0].datnum}_{dats[-1].datnum}.html')"
   ]
  },
  {
   "cell_type": "code",
   "execution_count": 353,
   "metadata": {},
   "outputs": [
    {
     "data": {
      "text/plain": [
       "[-700.0, -600.0, -500.0, -400.0, -300.0, -200.0, -100.0, 0.0, 100.0]"
      ]
     },
     "execution_count": 353,
     "metadata": {},
     "output_type": "execute_result"
    }
   ],
   "source": [
    "ips"
   ]
  },
  {
   "cell_type": "code",
   "execution_count": null,
   "metadata": {},
   "outputs": [],
   "source": []
  }
 ],
 "metadata": {
  "kernelspec": {
   "display_name": "Python 3",
   "language": "python",
   "name": "python3"
  },
  "language_info": {
   "codemirror_mode": {
    "name": "ipython",
    "version": 3
   },
   "file_extension": ".py",
   "mimetype": "text/x-python",
   "name": "python",
   "nbconvert_exporter": "python",
   "pygments_lexer": "ipython3",
   "version": "3.8.1"
  }
 },
 "nbformat": 4,
 "nbformat_minor": 4
}
