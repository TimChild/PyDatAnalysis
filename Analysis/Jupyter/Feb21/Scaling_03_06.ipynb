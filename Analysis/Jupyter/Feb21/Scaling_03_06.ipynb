{
 "cells": [
  {
   "cell_type": "code",
   "execution_count": 1,
   "metadata": {},
   "outputs": [],
   "source": [
    "# Add PyDatAnalysis to path\n",
    "import sys\n",
    "# insert at 1, 0 is the script path (or '' in REPL)\n",
    "sys.path.insert(1, \"/Users/owensheekey/Documents/Research/PyDatAnalysis\")\n",
    "\n",
    "export_path = 'Exports/'"
   ]
  },
  {
   "cell_type": "code",
   "execution_count": 2,
   "metadata": {},
   "outputs": [],
   "source": [
    "from __future__ import annotations\n",
    "from progressbar import progressbar\n",
    "from src.DatObject.Make_Dat import get_dat, get_dats\n",
    "import src.UsefulFunctions as U\n",
    "from src.DataStandardize.ExpSpecific.Feb21 import Feb21Exp2HDF, Feb21ExpConfig\n",
    "from src.DataStandardize.ExpConfig import ExpConfigGroupDatAttribute, ExpConfigBase\n",
    "import multiprocessing as mp\n",
    "import plotly.graph_objs as go\n",
    "import numpy as np\n",
    "import lmfit as lm\n",
    "from typing import TYPE_CHECKING, Iterable, Optional\n",
    "from src.DatObject.Attributes.Transition import i_sense_digamma, i_sense, i_sense_digamma_quad\n",
    "from src.UsefulFunctions import edit_params\n",
    "from src.DatObject.Attributes.SquareEntropy import square_wave_time_array, integrate_entropy\n",
    "import logging\n",
    "logger = logging.getLogger(__name__)"
   ]
  },
  {
   "cell_type": "code",
   "execution_count": 3,
   "metadata": {},
   "outputs": [],
   "source": [
    "alldats = get_dats(range(1573, 1637))"
   ]
  },
  {
   "cell_type": "code",
   "execution_count": 11,
   "metadata": {},
   "outputs": [],
   "source": [
    "# Hack since I am lazy and there are many CSQ traces mixed in\n",
    "dats = []\n",
    "for dat in alldats:\n",
    "    if dat.Logs.sweeprate > 500:\n",
    "        dats.append(dat)"
   ]
  },
  {
   "cell_type": "code",
   "execution_count": 12,
   "metadata": {},
   "outputs": [
    {
     "name": "stdout",
     "output_type": "stream",
     "text": [
      "Parameters([('amp', <Parameter 'amp', value=1.0717699436262165 +/- 0.000357, bounds=[0:inf]>), ('const', <Parameter 'const', value=5.638922819555451 +/- 7.5e-05, bounds=[-inf:inf]>), ('lin', <Parameter 'lin', value=0.0016655546243076191 +/- 1.51e-06, bounds=[0:inf]>), ('mid', <Parameter 'mid', value=0.00022379153539901927 +/- 0.00692, bounds=[-inf:inf]>), ('theta', <Parameter 'theta', value=3.958513677885228 (fixed), bounds=[0.01:inf]>), ('g', <Parameter 'g', value=0, bounds=[-50:1000]>)])\n"
     ]
    }
   ],
   "source": [
    "Θ = dats[0].Transition.avg_fit.best_values.theta \n",
    "fit = dats[0].Transition.get_fit(which='avg')\n",
    "params = fit.params\n",
    "params.add('g', value=0, vary=True, min=-50, max=1000)\n",
    "new_pars = edit_params(params, param_name='theta', value=Θ, vary=False) # Based on some old DC bias scans\n",
    "print(new_pars)"
   ]
  },
  {
   "cell_type": "code",
   "execution_count": 26,
   "metadata": {},
   "outputs": [
    {
     "name": "stderr",
     "output_type": "stream",
     "text": [
      "100% (30 of 30) |########################| Elapsed Time: 0:00:00 Time:  0:00:00\n"
     ]
    }
   ],
   "source": [
    "amp_digamma_ = [narrow_fit(\n",
    "    dat,\n",
    "    200,\n",
    "    which='avg', \n",
    "    initial_params=params, \n",
    "    fit_func=i_sense_digamma, \n",
    "    check_exists=True).best_values.amp\n",
    "for dat in progressbar(dats)]"
   ]
  },
  {
   "cell_type": "code",
   "execution_count": 27,
   "metadata": {},
   "outputs": [
    {
     "name": "stderr",
     "output_type": "stream",
     "text": [
      "100% (30 of 30) |########################| Elapsed Time: 0:00:00 Time:  0:00:00\n"
     ]
    }
   ],
   "source": [
    "g_digamma_ = [narrow_fit(\n",
    "    dat,\n",
    "    200,\n",
    "    which='avg', \n",
    "    initial_params=params, \n",
    "    fit_func=i_sense_digamma, \n",
    "    check_exists=True).best_values.g\n",
    "for dat in progressbar(dats)]"
   ]
  },
  {
   "cell_type": "code",
   "execution_count": 28,
   "metadata": {},
   "outputs": [],
   "source": [
    "escs = [dat.Logs.fds[\"ESC\"] for dat in dats]"
   ]
  },
  {
   "cell_type": "code",
   "execution_count": 31,
   "metadata": {},
   "outputs": [
    {
     "name": "stdout",
     "output_type": "stream",
     "text": [
      "[-2.85721853e-05 -1.80534391e-02 -1.75449395e+00]\n"
     ]
    }
   ],
   "source": [
    "fig = go.Figure()\n",
    "datnums = [dat.datnum for dat in dats]\n",
    "ind_remove = [np.argmin(np.abs(np.subtract(datnums, num))) for num in [1592, 1598, 1632, 1634]]\n",
    "temp_escs = []\n",
    "temp_amps = []\n",
    "for i, dat in enumerate(dats):\n",
    "    if i not in ind_remove:\n",
    "        temp_escs.append(escs[i])\n",
    "        temp_amps.append(amp_digamma_[i])\n",
    "fig.add_trace(go.Scatter(mode='markers', x=escs, y=amp_digamma_, text=[dat.datnum for dat in dats], name=\"Data\"))\n",
    "fig.update_layout(xaxis_title='ESC/ mV', yaxis_title='Amplitude /nA',\n",
    "                      title=f'Dats {dats[0].datnum} - {dats[-1].datnum}')\n",
    "res = np.polyfit(temp_escs, temp_amps, 2)\n",
    "fit = np.polyval(res, escs)\n",
    "print(res)\n",
    "fig.add_trace(go.Scatter(mode='lines', x=escs, y=fit, name=\"Fit\"))\n",
    "fig.show(renderer=\"browser\")"
   ]
  },
  {
   "cell_type": "code",
   "execution_count": 32,
   "metadata": {},
   "outputs": [],
   "source": [
    "fig.write_html(\"Exports/Amplitude_03_06_narrow_fitting.html\")"
   ]
  },
  {
   "cell_type": "code",
   "execution_count": 47,
   "metadata": {},
   "outputs": [],
   "source": [
    "fig = go.Figure()\n",
    "for dat in dats:\n",
    "    x = dat.Transition.avg_x\n",
    "    y = dat.Transition.avg_data\n",
    "    yfit = narrow_fit(\n",
    "            dat,\n",
    "            200,\n",
    "            which='avg', \n",
    "            initial_params=params, \n",
    "            fit_func=i_sense_digamma, \n",
    "            check_exists=True).eval_fit(x)\n",
    "    fig.add_trace(go.Scatter(mode='markers', x=x[::100], y=y[::100], name=f'{dat.datnum}d'))\n",
    "    fig.add_trace(go.Scatter(mode='lines', x=x[::25], y=yfit[::25], name=f'{dat.datnum}f', marker_color='grey'))\n",
    "fig.update_layout(xaxis_title='ACC/100 /mV', yaxis_title='Current /nA',\n",
    "                      title=f'Dat {dats[0].datnum} - {dats[-1].datnum}')\n",
    "fig.show(renderer=\"browser\")"
   ]
  },
  {
   "cell_type": "code",
   "execution_count": 48,
   "metadata": {},
   "outputs": [],
   "source": [
    "fig.write_html(\"Exports/AllFits_03_06_narrow_fitting.html\")"
   ]
  },
  {
   "cell_type": "code",
   "execution_count": 46,
   "metadata": {},
   "outputs": [],
   "source": [
    "def narrow_fit(dat, width, **kwargs):\n",
    "    ''' \n",
    "    Get a fit only including +/- width in dat.x around center of transition\n",
    "    kwargs is the stuff to pass to get_fit\n",
    "    Return a fit\n",
    "    '''\n",
    "    x = dat.Transition.avg_x\n",
    "    y = dat.Transition.avg_data\n",
    "    \n",
    "    start_ind = np.argmin(np.abs(np.add(x, width)))\n",
    "    end_ind = np.argmin(np.abs(np.subtract(x, width)))\n",
    "    \n",
    "    return dat.Transition.get_fit(\n",
    "            x = x[start_ind:end_ind],\n",
    "            data = y[start_ind:end_ind],\n",
    "            **kwargs)"
   ]
  },
  {
   "cell_type": "code",
   "execution_count": 57,
   "metadata": {},
   "outputs": [
    {
     "name": "stdout",
     "output_type": "stream",
     "text": [
      "0.5361376289776723\n",
      "0.47050325908829005\n"
     ]
    }
   ],
   "source": [
    "fig = go.Figure()\n",
    "for dat in [dats[28], dats[29]]:\n",
    "    x = dat.Transition.avg_x\n",
    "    y = dat.Transition.avg_data\n",
    "    yfit = narrow_fit(\n",
    "        dat,\n",
    "        500,\n",
    "        which='avg', \n",
    "        initial_params=params, \n",
    "        fit_func=i_sense_digamma, \n",
    "        check_exists=False).eval_fit(x)\n",
    "    fig.add_trace(go.Scatter(mode='markers', x=x[::100], y=y[::100], name=f'{dat.datnum}d'))\n",
    "    fig.add_trace(go.Scatter(mode='lines', x=x[::25], y=yfit[::25], name=f'{dat.datnum}f', marker_color='grey'))\n",
    "    print(narrow_fit(\n",
    "        dat,\n",
    "        500,\n",
    "        which='avg', \n",
    "        initial_params=params, \n",
    "        fit_func=i_sense_digamma, \n",
    "        check_exists=False).best_values.amp)\n",
    "fig.show(renderer=\"browser\")"
   ]
  },
  {
   "cell_type": "code",
   "execution_count": 55,
   "metadata": {},
   "outputs": [],
   "source": [
    "fig.write_html(\"Exports/VeryGammaBroadened_03_06_narrrow.html\")"
   ]
  },
  {
   "cell_type": "code",
   "execution_count": 41,
   "metadata": {},
   "outputs": [
    {
     "name": "stdout",
     "output_type": "stream",
     "text": [
      "0: 1574\n",
      "1: 1576\n",
      "2: 1578\n",
      "3: 1580\n",
      "4: 1582\n",
      "5: 1584\n",
      "6: 1586\n",
      "7: 1588\n",
      "8: 1590\n",
      "9: 1592\n",
      "10: 1594\n",
      "11: 1596\n",
      "12: 1598\n",
      "13: 1600\n",
      "14: 1604\n",
      "15: 1606\n",
      "16: 1608\n",
      "17: 1610\n",
      "18: 1612\n",
      "19: 1614\n",
      "20: 1616\n",
      "21: 1618\n",
      "22: 1620\n",
      "23: 1622\n",
      "24: 1624\n",
      "25: 1626\n",
      "26: 1628\n",
      "27: 1630\n",
      "28: 1632\n",
      "29: 1634\n"
     ]
    }
   ],
   "source": [
    "for i, dat in enumerate(dats):\n",
    "    print(f'{i}: {dat.datnum}')"
   ]
  },
  {
   "cell_type": "code",
   "execution_count": null,
   "metadata": {},
   "outputs": [],
   "source": []
  }
 ],
 "metadata": {
  "kernelspec": {
   "display_name": "Python 3",
   "language": "python",
   "name": "python3"
  },
  "language_info": {
   "codemirror_mode": {
    "name": "ipython",
    "version": 3
   },
   "file_extension": ".py",
   "mimetype": "text/x-python",
   "name": "python",
   "nbconvert_exporter": "python",
   "pygments_lexer": "ipython3",
   "version": "3.8.1"
  }
 },
 "nbformat": 4,
 "nbformat_minor": 4
}
