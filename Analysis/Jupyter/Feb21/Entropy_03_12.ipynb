{
 "cells": [
  {
   "cell_type": "code",
   "execution_count": 2,
   "metadata": {
    "jupyter": {
     "source_hidden": true
    }
   },
   "outputs": [],
   "source": [
    "# Add PyDatAnalysis to path\n",
    "import sys\n",
    "# insert at 1, 0 is the script path (or '' in REPL)\n",
    "sys.path.insert(1, \"/Users/owensheekey/Documents/Research/PyDatAnalysis\")\n",
    "\n",
    "export_path = 'Exports/'"
   ]
  },
  {
   "cell_type": "code",
   "execution_count": 423,
   "metadata": {
    "jupyter": {
     "source_hidden": true
    }
   },
   "outputs": [],
   "source": [
    "from __future__ import annotations\n",
    "from progressbar import progressbar\n",
    "from src.DatObject.Make_Dat import get_dat, get_dats\n",
    "import src.UsefulFunctions as U\n",
    "from src.DataStandardize.ExpSpecific.Feb21 import Feb21Exp2HDF, Feb21ExpConfig\n",
    "from src.DataStandardize.ExpConfig import ExpConfigGroupDatAttribute, ExpConfigBase\n",
    "import multiprocessing as mp\n",
    "import plotly.graph_objs as go\n",
    "import numpy as np\n",
    "import lmfit as lm\n",
    "from typing import TYPE_CHECKING, Iterable, Optional\n",
    "from src.DatObject.Attributes.Transition import i_sense_digamma, i_sense, i_sense_digamma_quad\n",
    "from src.UsefulFunctions import edit_params\n",
    "from src.DatObject.Attributes.SquareEntropy import square_wave_time_array, integrate_entropy\n",
    "import logging\n",
    "logger = logging.getLogger(__name__)\n",
    "import src.UsefulFunctions as U\n",
    "from src.CoreUtil import decimate"
   ]
  },
  {
   "cell_type": "code",
   "execution_count": 96,
   "metadata": {
    "jupyter": {
     "source_hidden": true
    }
   },
   "outputs": [],
   "source": [
    "def narrow_fit(dat, width, **kwargs):\n",
    "    '''\n",
    "    Get a fit only including +/- width in dat.x around center of transition\n",
    "    kwargs is the stuff to pass to get_fit\n",
    "    Return a fit\n",
    "    '''\n",
    "    out = dat.SquareEntropy.get_Outputs(existing_only=True)\n",
    "    x = np.copy(out.x)\n",
    "    y = np.copy(out.averaged)\n",
    "    y = np.mean(y[(0, 2), :], axis=0)\n",
    "\n",
    "    start_ind = np.nanargmin(np.abs(np.add(x, width)))\n",
    "    end_ind = np.nanargmin(np.abs(np.subtract(x, width)))\n",
    "\n",
    "    x[:start_ind] = [np.nan] * start_ind\n",
    "    x[end_ind:] = [np.nan] * (len(x) - end_ind)\n",
    "\n",
    "    y[:start_ind] = [np.nan] * start_ind\n",
    "    y[end_ind:] = [np.nan] * (len(y) - end_ind)\n",
    "\n",
    "    fit = dat.SquareEntropy.get_fit(\n",
    "        x=x,\n",
    "        data=y,\n",
    "        **kwargs)\n",
    "    return fit"
   ]
  },
  {
   "cell_type": "code",
   "execution_count": 5,
   "metadata": {
    "jupyter": {
     "source_hidden": true
    }
   },
   "outputs": [],
   "source": [
    "def narrow_fit_trans_only(dat, width, **kwargs):\n",
    "    '''\n",
    "    Get a fit only including +/- width in dat.x around center of transition\n",
    "    kwargs is the stuff to pass to get_fit\n",
    "    Return a fit\n",
    "    '''\n",
    "    x = np.copy(dat.Transition.avg_x)\n",
    "    y = np.copy(dat.Transition.avg_data)\n",
    "\n",
    "    start_ind = np.nanargmin(np.abs(np.add(x, width)))\n",
    "    end_ind = np.nanargmin(np.abs(np.subtract(x, width)))\n",
    "\n",
    "    x[:start_ind] = [np.nan] * start_ind\n",
    "    x[end_ind:] = [np.nan] * (len(x) - end_ind)\n",
    "\n",
    "    y[:start_ind] = [np.nan] * start_ind\n",
    "    y[end_ind:] = [np.nan] * (len(y) - end_ind)\n",
    "\n",
    "    fit = dat.SquareEntropy.get_fit(\n",
    "        x=x,\n",
    "        data=y,\n",
    "        **kwargs)\n",
    "    return fit"
   ]
  },
  {
   "cell_type": "code",
   "execution_count": 45,
   "metadata": {},
   "outputs": [],
   "source": [
    "def do_calc(datnum, overwrite=True):\n",
    "    \"\"\"Just a function which can be passed to a process pool for faster calculation\"\"\"\n",
    "    save_name = 'SPS.01'\n",
    "\n",
    "    dat = get_dat(datnum)\n",
    "\n",
    "    setpoints = [0.01, None]\n",
    "\n",
    "    # Get other inputs\n",
    "    setpoint_times = square_wave_time_array(dat.SquareEntropy.square_awg)\n",
    "    sp_start, sp_fin = [U.get_data_index(setpoint_times, sp) for sp in setpoints]\n",
    "    logger.debug(f'Setpoint times: {setpoints}, Setpoint indexs: {sp_start, sp_fin}')\n",
    "\n",
    "    # Run Fits\n",
    "    pp = dat.SquareEntropy.get_ProcessParams(name=None,  # Load default and modify from there\n",
    "                                             setpoint_start=sp_start, setpoint_fin=sp_fin,\n",
    "                                             transition_fit_func=i_sense,\n",
    "                                             save_name=save_name)\n",
    "    out = dat.SquareEntropy.get_Outputs(name=save_name, inputs=None, process_params=pp, overwrite=overwrite)\n",
    "    dat.Entropy.get_fit(which='avg', name=save_name, data=out.average_entropy_signal, x=out.x, check_exists=False,\n",
    "                        overwrite=overwrite)\n",
    "    [dat.Entropy.get_fit(which='row', row=i, name=save_name,\n",
    "                         data=row, x=out.x, check_exists=False,\n",
    "                         overwrite=overwrite) for i, row in enumerate(out.entropy_signal)]\n",
    "    return out"
   ]
  },
  {
   "cell_type": "code",
   "execution_count": 36,
   "metadata": {
    "jupyter": {
     "source_hidden": true
    }
   },
   "outputs": [],
   "source": [
    "def get_deltaT(dat):\n",
    "    \"\"\"Returns deltaT of a given dat in mV\"\"\"\n",
    "    ho1 = dat.AWG.max(0)  # 'HO1/10M' gives nA * 10\n",
    "    t = dat.Logs.temps.mc\n",
    "\n",
    "    # Datnums to search through (only thing that should be changed)\n",
    "    datnums = set(range(2143, 2156))\n",
    "    # datnums = set()\n",
    "    # for j in range(5):\n",
    "    #     datnums = datnums.union(set(range(28 * j + 1312, 28 * j + 1312 + 4 * 7 + 1)) - set([28 * j + 1312 + 4 * i for i in range(8)]))\n",
    "    # datnums = list(datnums)\n",
    "\n",
    "    dats = get_dats(datnums)\n",
    "\n",
    "    dats = [d for d in dats if np.isclose(d.Logs.temps.mc, dat.Logs.temps.mc, rtol=0.1)]  # Get all dats where MC temp is within 10%\n",
    "    bias_lookup = np.array([d.Logs.fds['HO1/10M'] for d in dats])\n",
    "\n",
    "    indp = np.argmin(abs(bias_lookup - ho1))\n",
    "    indm = np.argmin(abs(bias_lookup + ho1))\n",
    "    theta_z = np.nanmean([d.Transition.avg_fit.best_values.theta for d in dats if d.Logs.fds['HO1/10M'] == 0])\n",
    "\n",
    "    # temp_lookup = np.array([d.Logs.temps.mc for d in dats])\n",
    "    # bias_lookup = np.array([d.Logs.fds['HO1/10M'] for d in dats])\n",
    "    #\n",
    "    # indp = np.argmin(temp_lookup - t + bias_lookup - ho1)\n",
    "    # indm = np.argmin(temp_lookup - t + bias_lookup + ho1)\n",
    "    # indz = np.argmin(temp_lookup - t + bias_lookup)\n",
    "\n",
    "    theta_p = dats[indp].Transition.avg_fit.best_values.theta\n",
    "    theta_m = dats[indm].Transition.avg_fit.best_values.theta\n",
    "    # theta_z = dats[indz].Transition.avg_fit.best_values.theta\n",
    "    return (theta_p + theta_m) / 2 - theta_z"
   ]
  },
  {
   "cell_type": "code",
   "execution_count": 642,
   "metadata": {},
   "outputs": [],
   "source": [
    "# datnums = set(range(1869, 1919)) - set(range(1870, 1919, 2))\n",
    "# transdatnums = set(range(1869, 1919)) - set(range(1869, 1919, 2))\n",
    "\n",
    "# datnums = np.sort(list(set(range(2089, 2095)) - set(range(2090, 2095, 2))))\n",
    "# transdatnums = np.sort(list(set(range(2089, 2095)) - set(range(2089, 2095, 2))))\n",
    "# datnums = np.sort(list(set(range(1778, 1795))))\n",
    "\n",
    "# datnums = np.sort(list(set(range(2156, 2162)) - set(range(2157, 2162, 2))))\n",
    "# transdatnums = np.sort(list(set(range(2156, 2162)) - set(range(2156, 2162, 2))))\n",
    "\n",
    "datnums = [2164,2167, 2170, 2176, 2160, 2131, 2178, 2180, 2182]\n",
    "transdatnums = [2165,2168, 2171, 2177, 2161, 2132, 2179, 2181, 2183]\n",
    "\n",
    "# datnums = np.sort(list(set(range(2095, 2143)) - set(range(2096, 2143, 2))))\n",
    "# transdatnums = np.sort(list(set(range(2095, 2143)) - set(range(2095, 2143, 2))))\n",
    "\n",
    "datnums = np.sort(list(set(range(2524, 2542)) - set(range(2525, 2542, 2))))\n",
    "transdatnums = np.sort(list(set(range(2524, 2542)) - set(range(2524, 2542, 2))))"
   ]
  },
  {
   "cell_type": "code",
   "execution_count": 643,
   "metadata": {},
   "outputs": [],
   "source": [
    "dats = get_dats(list(datnums), overwrite=False)\n",
    "transdats = get_dats(list(transdatnums), overwrite=False)"
   ]
  },
  {
   "cell_type": "code",
   "execution_count": 645,
   "metadata": {},
   "outputs": [
    {
     "name": "stderr",
     "output_type": "stream",
     "text": [
      "Need to make _init_mags more permanent...\n",
      "Need to make _init_mags more permanent...\n",
      "Need to make _init_mags more permanent...\n",
      "Need to make _init_mags more permanent...\n",
      "Need to make _init_mags more permanent...\n",
      "Need to make _init_mags more permanent...\n",
      "Need to make _init_mags more permanent...\n",
      "Need to make _init_mags more permanent...\n"
     ]
    }
   ],
   "source": [
    "ips = [dat.Logs.fds[\"IP1/200\"] for dat in dats]\n",
    "datnums = [dat.datnum for dat in dats]"
   ]
  },
  {
   "cell_type": "code",
   "execution_count": 646,
   "metadata": {},
   "outputs": [
    {
     "data": {
      "text/plain": [
       "[-499.88,\n",
       " -479.74,\n",
       " -459.59,\n",
       " -439.45,\n",
       " -419.31,\n",
       " -399.17,\n",
       " -379.03,\n",
       " -358.89,\n",
       " -338.75]"
      ]
     },
     "execution_count": 646,
     "metadata": {},
     "output_type": "execute_result"
    }
   ],
   "source": [
    "ips"
   ]
  },
  {
   "cell_type": "code",
   "execution_count": 647,
   "metadata": {},
   "outputs": [
    {
     "name": "stderr",
     "output_type": "stream",
     "text": [
      "100% (9 of 9) |##########################| Elapsed Time: 0:00:21 Time:  0:00:21\n"
     ]
    }
   ],
   "source": [
    "out = [do_calc(dn, overwrite=False) for dn in progressbar(datnums)]"
   ]
  },
  {
   "cell_type": "code",
   "execution_count": 649,
   "metadata": {},
   "outputs": [],
   "source": [
    "Θ = transdats[0].Transition.get_fit(which='avg', check_exists=False)\n",
    "Θ = fit.best_values.theta \n",
    "params = fit.params\n",
    "params.add('g', value=0, vary=False, min=-50, max=1000)\n",
    "new_pars = edit_params(params, param_name='theta', value=Θ, vary=True) "
   ]
  },
  {
   "cell_type": "code",
   "execution_count": 650,
   "metadata": {},
   "outputs": [
    {
     "data": {
      "text/plain": [
       "3.600812990733517"
      ]
     },
     "execution_count": 650,
     "metadata": {},
     "output_type": "execute_result"
    }
   ],
   "source": [
    "Θ"
   ]
  },
  {
   "cell_type": "code",
   "execution_count": 651,
   "metadata": {},
   "outputs": [
    {
     "name": "stderr",
     "output_type": "stream",
     "text": [
      "100% (9 of 9) |##########################| Elapsed Time: 0:00:18 Time:  0:00:18\n"
     ]
    }
   ],
   "source": [
    "amp_digamma_ = [narrow_fit_trans_only(\n",
    "    dat,\n",
    "    500,\n",
    "    which='avg', \n",
    "    initial_params=new_pars, \n",
    "    fit_func=i_sense_digamma, \n",
    "    check_exists=False).best_values.amp\n",
    "for dat in progressbar(transdats)]"
   ]
  },
  {
   "cell_type": "code",
   "execution_count": 652,
   "metadata": {},
   "outputs": [
    {
     "name": "stderr",
     "output_type": "stream",
     "text": [
      "100% (9 of 9) |##########################| Elapsed Time: 0:00:00 Time:  0:00:00\n"
     ]
    }
   ],
   "source": [
    "g_digamma_ = [narrow_fit_trans_only(\n",
    "    dat,\n",
    "    500,\n",
    "    initial_params=new_pars, \n",
    "    fit_func=i_sense_digamma, \n",
    "    check_exists=False).best_values.g\n",
    "for dat in progressbar(transdats)]"
   ]
  },
  {
   "cell_type": "code",
   "execution_count": 653,
   "metadata": {},
   "outputs": [
    {
     "name": "stderr",
     "output_type": "stream",
     "text": [
      "100% (9 of 9) |##########################| Elapsed Time: 0:00:00 Time:  0:00:00\n"
     ]
    }
   ],
   "source": [
    "amp_digamma_cold = [narrow_fit(\n",
    "    dat,\n",
    "    500,\n",
    "    initial_params=new_pars, \n",
    "    fit_func=i_sense_digamma, \n",
    "    check_exists=False).best_values.amp\n",
    "for dat in progressbar(dats)]"
   ]
  },
  {
   "cell_type": "code",
   "execution_count": 654,
   "metadata": {},
   "outputs": [
    {
     "name": "stderr",
     "output_type": "stream",
     "text": [
      "100% (9 of 9) |##########################| Elapsed Time: 0:00:00 Time:  0:00:00\n"
     ]
    }
   ],
   "source": [
    "g_digamma_cold = [narrow_fit(\n",
    "    dat,\n",
    "    500,\n",
    "    initial_params=new_pars, \n",
    "    fit_func=i_sense_digamma, \n",
    "    check_exists=False).best_values.g\n",
    "for dat in progressbar(dats)]"
   ]
  },
  {
   "cell_type": "code",
   "execution_count": 655,
   "metadata": {},
   "outputs": [
    {
     "name": "stderr",
     "output_type": "stream",
     "text": [
      "100% (9 of 9) |##########################| Elapsed Time: 0:00:00 Time:  0:00:00\n"
     ]
    }
   ],
   "source": [
    "mids_digamma_ = [narrow_fit(\n",
    "    dat,\n",
    "    500,\n",
    "    initial_params=new_pars, \n",
    "    fit_func=i_sense_digamma, \n",
    "    check_exists=False).best_values.mid\n",
    "for dat in progressbar(dats)]"
   ]
  },
  {
   "cell_type": "code",
   "execution_count": 670,
   "metadata": {},
   "outputs": [
    {
     "data": {
      "text/plain": [
       "0.9373660445680068"
      ]
     },
     "execution_count": 670,
     "metadata": {},
     "output_type": "execute_result"
    }
   ],
   "source": [
    "np.average([ dat.SquareEntropy.get_fit(which='avg', which_fit='transition', transition_part='hot', check_exists=False).best_values.theta\n",
    " - dat.SquareEntropy.get_fit(which='avg', which_fit='transition', transition_part='cold', check_exists=False).best_values.theta\n",
    "  for dat in dats])"
   ]
  },
  {
   "cell_type": "code",
   "execution_count": 677,
   "metadata": {},
   "outputs": [],
   "source": [
    "fig = go.Figure()\n",
    "\n",
    "fig.add_trace(go.Scatter(mode='markers', x=ips, y=amp_digamma_cold, text=datnums, name=\"Entropy fits\"))\n",
    "fig.add_trace(go.Scatter(mode='markers', x=ips, y=amp_digamma_, text=transdatnums, name=\"Transition fits\"))\n",
    "\n",
    "fig.update_layout(xaxis_title='ESC/ mV', yaxis_title='Amplitude /nA',\n",
    "                      title=f'Dats {dats[0].datnum} - {dats[-1].datnum}')\n",
    "fig.show(renderer=\"browser\")"
   ]
  },
  {
   "cell_type": "code",
   "execution_count": 58,
   "metadata": {},
   "outputs": [],
   "source": [
    "fig.write_html(f'Exports/Ampls_03_12_dats{datnums[0]}_{datnums[-1]}.html')"
   ]
  },
  {
   "cell_type": "code",
   "execution_count": 678,
   "metadata": {},
   "outputs": [],
   "source": [
    "fig = go.Figure()\n",
    "\n",
    "fig.add_trace(go.Scatter(mode='markers', x=ips, y=np.array(g_digamma_cold)/Θ, text=datnums, name=\"Entropy fits\"))\n",
    "fig.add_trace(go.Scatter(mode='markers', x=ips, y=np.array(g_digamma_)/Θ, text=transdatnums, name=\"Transition fits\"))\n",
    "fig.update_layout(xaxis_title='ESC/ mV', yaxis_title='Gamma/Theta /arb',\n",
    "                      title=f'Dats {dats[0].datnum} - {dats[-1].datnum}')\n",
    "\n",
    "fig.show(renderer=\"browser\")"
   ]
  },
  {
   "cell_type": "code",
   "execution_count": 60,
   "metadata": {},
   "outputs": [],
   "source": [
    "fig.write_html(f'Exports/Gammas_03_12_dats{datnums[0]}_{datnums[-1]}.html')"
   ]
  },
  {
   "cell_type": "code",
   "execution_count": 624,
   "metadata": {},
   "outputs": [
    {
     "name": "stderr",
     "output_type": "stream",
     "text": [
      "| |       #                                          | 12 Elapsed Time: 0:00:00\n"
     ]
    }
   ],
   "source": [
    "fig = go.Figure()\n",
    "for i, dat in progressbar(enumerate(dats)):\n",
    "    x = dat.SquareEntropy.avg_x[::5]\n",
    "    y = dat.SquareEntropy.default_Output.averaged\n",
    "    ycold = np.mean(y[(0, 2), :], axis=0)[::5]\n",
    "    yhot = np.mean(y[(1, 3), :], axis=0)[::5]\n",
    "    xfit = np.linspace(-1000,1000,1001)\n",
    "    fit = narrow_fit(\n",
    "            dat,\n",
    "            400,\n",
    "            initial_params=new_pars, \n",
    "            fit_func=i_sense_digamma, \n",
    "            check_exists=False)\n",
    "    yfit = fit.eval_fit(xfit) - fit.best_values.lin*xfit\n",
    "    fig.add_trace(go.Scatter(mode='markers', x=x, y=ycold - fit.best_values.lin*x, name=f'{datnums[i]}d_cold'))\n",
    "    fig.add_trace(go.Scatter(mode='markers', x=x, y=yhot - fit.best_values.lin*x, name=f'{datnums[i]}d_hot'))\n",
    "    fig.add_trace(go.Scatter(mode='lines', x=xfit, y=yfit, name=f'{datnums[i]}f', marker_color='grey'))\n",
    "fig.update_layout(xaxis_title='ACC/100 /mV', yaxis_title='Current /nA',\n",
    "                      title=f'Dat {dats[0].datnum} - {dats[-1].datnum}')\n",
    "fig.show(renderer=\"browser\")"
   ]
  },
  {
   "cell_type": "code",
   "execution_count": 625,
   "metadata": {},
   "outputs": [],
   "source": [
    "fig.write_html(f'Exports/Cold_hot_transitions_plus_fit_dats{dats[0].datnum}_{dats[-1].datnum}.html')"
   ]
  },
  {
   "cell_type": "code",
   "execution_count": 673,
   "metadata": {},
   "outputs": [],
   "source": [
    "deltaT = [1.08 for dat in dats]\n",
    "ampl = amp_digamma_cold\n",
    "for i, dat in enumerate(dats):\n",
    "    dat.Entropy.set_integration_info(dT=deltaT[i], amp=ampl[i], overwrite=True)"
   ]
  },
  {
   "cell_type": "code",
   "execution_count": 674,
   "metadata": {},
   "outputs": [],
   "source": [
    "fig = go.Figure()\n",
    "int_ents = []\n",
    "for i in range(len(dats)):\n",
    "    int_ent = integrate_entropy(out[i].average_entropy_signal, dats[i].Entropy.integration_info.sf)\n",
    "    int_ents.append(np.average(int_ent[-10:]))\n",
    "    fig.add_trace(go.Scatter(mode='markers', \n",
    "                             x=np.subtract(out[i].x, mids_digamma_[i]), \n",
    "                             y=int_ent,\n",
    "                             name= f'g/t:{np.divide(g_digamma_cold,Θ)[i]:.2f}, dat{dats[i].datnum}, IP/200:{dats[i].Logs.fds[\"IP1/200\"]}'))\n",
    "\n",
    "fig.add_trace(go.Scatter(mode='lines', x=[-400,400], y=[np.log(2), np.log(2)], name=\"Log2\", marker_color=\"DarkGrey\"))  \n",
    "fig.add_trace(go.Scatter(mode='lines', x=[-400,400], y=[np.log(3), np.log(3)], name=\"Log3\", marker_color=\"DarkGrey\"))\n",
    "fig.add_trace(go.Scatter(mode='lines', x=[-400,400], y=[np.log(4), np.log(4)], name=\"Log4\", marker_color=\"DarkGrey\")) \n",
    "fig.add_trace(go.Scatter(mode='lines', x=[-400,400], y=[np.log(5), np.log(5)], name=\"Log5\", marker_color=\"DarkGrey\")) \n",
    "fig.add_trace(go.Scatter(mode='lines', x=[-400,400], y=[-np.log(2), -np.log(2)], name=\"-Log2\", marker_color=\"DarkGrey\"))  \n",
    "fig.add_trace(go.Scatter(mode='lines', x=[-400,400], y=[-np.log(3), -np.log(3)], name=\"-Log3\", marker_color=\"DarkGrey\"))  \n",
    "fig.update_layout(xaxis_title='ACC/100 /mV', yaxis_title='Entropy /kb',\n",
    "                      title=f'Dats {dats[0].datnum} - {dats[-1].datnum}')\n",
    "fig.show(renderer='browser')"
   ]
  },
  {
   "cell_type": "code",
   "execution_count": 639,
   "metadata": {},
   "outputs": [],
   "source": [
    "fig.write_html(f'Exports/IntEntropy_03_17_dats{dats[0].datnum}_{dats[-1].datnum}.html')"
   ]
  },
  {
   "cell_type": "code",
   "execution_count": 363,
   "metadata": {},
   "outputs": [],
   "source": [
    "# escs1 = []\n",
    "# escs2 = []\n",
    "# int_ents1 = []\n",
    "# int_ents2 = []\n",
    "# datnums1 = []\n",
    "# datnums2 = []\n",
    "# for i in range(len(escs)):\n",
    "#     if dats[i].datnum >= 1941:\n",
    "#         escs2.append(escs[i])\n",
    "#         int_ents2.append(int_ents[i])\n",
    "#         datnums2.append(dats[i].datnum)\n",
    "#     else:\n",
    "#         escs1.append(escs[i])\n",
    "#         int_ents1.append(int_ents[i])\n",
    "#         datnums1.append(dats[i].datnum)"
   ]
  },
  {
   "cell_type": "code",
   "execution_count": 675,
   "metadata": {},
   "outputs": [],
   "source": [
    "ents = [dat.Entropy.get_fit(which='avg', name=\"SPS.01\", check_exists=True).best_values.dS for dat in dats]\n",
    "fig = go.Figure()\n",
    "fig.add_trace(go.Scatter(mode='markers+lines', \n",
    "                         x=ips, y=int_ents, \n",
    "                         text=[dat.datnum for dat in dats], \n",
    "                         name=\"Int\"))\n",
    "fig.add_trace(go.Scatter(mode='markers+lines', \n",
    "                         x=ips, y=ents, \n",
    "                         text=[dat.datnum for dat in dats], \n",
    "                         name=\"Fit\"))\n",
    "# fig.add_trace(go.Scatter(mode='markers+lines', \n",
    "#                          x=escs1, y=int_ents1, \n",
    "#                          text=datnums1, \n",
    "#                          name=\"Set 1 -- 10 nA\"))\n",
    "# fig.add_trace(go.Scatter(mode='markers+lines', \n",
    "#                          x=escs2, y=int_ents2, \n",
    "#                          text=datnums2, \n",
    "#                          name=\"Set 2 -- 10 nA\"))\n",
    "# #                          marker=dict(color='LightSkyBlue',\n",
    "#                                      size=10,\n",
    "#                                      line=dict(color='DarkSlateGrey',\n",
    "#                                                width=2)),\n",
    "#                          error_y=dict(type='data', # value of error bar given in data coordinates\n",
    "#                                       array=[0.05]*len(int_ents),\n",
    "#                                       visible=True)))\n",
    "# fig.add_trace(go.Scatter(mode='lines', x=[-500,0], y=[np.log(2), np.log(2)], name=\"Log2\", line=dict(color='DarkSlateGrey', width=4, dash='dot')))  \n",
    "\n",
    "fig.update_layout(xaxis_title='ESC /mV', yaxis_title='Entropy /kb',\n",
    "                      title=f'Integrated -- Dats {dats[0].datnum} - {dats[-1].datnum}')\n",
    "fig.show(renderer=\"browser\")"
   ]
  },
  {
   "cell_type": "code",
   "execution_count": 641,
   "metadata": {},
   "outputs": [],
   "source": [
    "fig.write_html(f'Exports/IntEntropyvalues_03_17_dats{datnums[0]}_{datnums[-1]}.html')"
   ]
  },
  {
   "cell_type": "code",
   "execution_count": 619,
   "metadata": {},
   "outputs": [],
   "source": [
    "esps = [dat.Logs.fds[\"ESP\"] for dat in dats]"
   ]
  },
  {
   "cell_type": "code",
   "execution_count": 620,
   "metadata": {},
   "outputs": [],
   "source": [
    "dat2340 = get_dats([2340])[0]"
   ]
  },
  {
   "cell_type": "code",
   "execution_count": 621,
   "metadata": {},
   "outputs": [],
   "source": [
    "data = dat2340.Data.get_data('Experiment Copy/cscurrent_2d')\n",
    "x = dat2340.Data.get_data('x')\n",
    "y = dat2340.Data.get_data('y')"
   ]
  },
  {
   "cell_type": "code",
   "execution_count": 622,
   "metadata": {},
   "outputs": [],
   "source": [
    "fig = go.Figure()\n",
    "fig.add_trace(go.Heatmap(\n",
    "                    z=np.diff(data), x=x[:-1], y=y))\n",
    "fig.add_trace(go.Scatter(mode='markers+lines', \n",
    "                         x=ips, y=esps, \n",
    "                         text=[dat.datnum for dat in dats],\n",
    "                         marker_color=\"White\"))\n",
    "fig.update_layout(xaxis_title='IP1 /mV', yaxis_title='ESP /mV')\n",
    "fig.show(renderer='browser')"
   ]
  },
  {
   "cell_type": "code",
   "execution_count": 623,
   "metadata": {},
   "outputs": [],
   "source": [
    "fig.write_html(f'Exports/diff_DQD_dat2340_03_17_2.html')"
   ]
  },
  {
   "cell_type": "code",
   "execution_count": 360,
   "metadata": {},
   "outputs": [
    {
     "data": {
      "text/plain": [
       "(507,)"
      ]
     },
     "execution_count": 360,
     "metadata": {},
     "output_type": "execute_result"
    }
   ],
   "source": [
    "x[:-1].shape"
   ]
  },
  {
   "cell_type": "code",
   "execution_count": 367,
   "metadata": {},
   "outputs": [
    {
     "ename": "IndexError",
     "evalue": "list index out of range",
     "output_type": "error",
     "traceback": [
      "\u001b[0;31m---------------------------------------------------------------------------\u001b[0m",
      "\u001b[0;31mIndexError\u001b[0m                                Traceback (most recent call last)",
      "\u001b[0;32m<ipython-input-367-742b39e8b856>\u001b[0m in \u001b[0;36m<module>\u001b[0;34m\u001b[0m\n\u001b[0;32m----> 1\u001b[0;31m \u001b[0mdats\u001b[0m\u001b[0;34m[\u001b[0m\u001b[0;36m4\u001b[0m\u001b[0;34m]\u001b[0m\u001b[0;34m.\u001b[0m\u001b[0mLogs\u001b[0m\u001b[0;34m.\u001b[0m\u001b[0mfds\u001b[0m\u001b[0;34m\u001b[0m\u001b[0;34m\u001b[0m\u001b[0m\n\u001b[0m",
      "\u001b[0;31mIndexError\u001b[0m: list index out of range"
     ]
    }
   ],
   "source": [
    "dats[4].Logs.fds"
   ]
  },
  {
   "cell_type": "code",
   "execution_count": null,
   "metadata": {},
   "outputs": [],
   "source": []
  }
 ],
 "metadata": {
  "kernelspec": {
   "display_name": "Python 3",
   "language": "python",
   "name": "python3"
  },
  "language_info": {
   "codemirror_mode": {
    "name": "ipython",
    "version": 3
   },
   "file_extension": ".py",
   "mimetype": "text/x-python",
   "name": "python",
   "nbconvert_exporter": "python",
   "pygments_lexer": "ipython3",
   "version": "3.8.1"
  }
 },
 "nbformat": 4,
 "nbformat_minor": 4
}
