{
 "cells": [
  {
   "cell_type": "code",
   "execution_count": 2,
   "metadata": {
    "jupyter": {
     "source_hidden": true
    }
   },
   "outputs": [],
   "source": [
    "# Add PyDatAnalysis to path\n",
    "import sys\n",
    "# insert at 1, 0 is the script path (or '' in REPL)\n",
    "sys.path.insert(1, \"/Users/owensheekey/Documents/Research/PyDatAnalysis\")\n",
    "\n",
    "export_path = 'Exports/'\n"
   ]
  },
  {
   "cell_type": "code",
   "execution_count": 3,
   "metadata": {
    "jupyter": {
     "source_hidden": true
    }
   },
   "outputs": [],
   "source": [
    "from __future__ import annotations\n",
    "from progressbar import progressbar\n",
    "from src.DatObject.Make_Dat import get_dat, get_dats\n",
    "import src.UsefulFunctions as U\n",
    "from src.DataStandardize.ExpSpecific.Feb21 import Feb21Exp2HDF, Feb21ExpConfig\n",
    "from src.DataStandardize.ExpConfig import ExpConfigGroupDatAttribute, ExpConfigBase\n",
    "import multiprocessing as mp\n",
    "import plotly.graph_objs as go\n",
    "import numpy as np\n",
    "import lmfit as lm\n",
    "from typing import TYPE_CHECKING, Iterable, Optional\n",
    "from src.DatObject.Attributes.Transition import i_sense_digamma, i_sense, i_sense_digamma_quad\n",
    "from src.UsefulFunctions import edit_params\n",
    "from src.DatObject.Attributes.SquareEntropy import square_wave_time_array, integrate_entropy\n",
    "import logging\n",
    "logger = logging.getLogger(__name__)\n",
    "import src.UsefulFunctions as U\n",
    "from src.CoreUtil import decimate"
   ]
  },
  {
   "cell_type": "code",
   "execution_count": 4,
   "metadata": {
    "jupyter": {
     "source_hidden": true
    }
   },
   "outputs": [],
   "source": [
    "def narrow_fit(dat, width, **kwargs):\n",
    "    '''\n",
    "    Get a fit only including +/- width in dat.x around center of transition\n",
    "    kwargs is the stuff to pass to get_fit\n",
    "    Return a fit\n",
    "    '''\n",
    "    out = dat.SquareEntropy.get_Outputs(existing_only=True)\n",
    "    x = np.copy(out.x)\n",
    "    y = np.copy(out.averaged)\n",
    "    y = np.mean(y[(0, 2), :], axis=0)\n",
    "\n",
    "    start_ind = np.nanargmin(np.abs(np.add(x, width)))\n",
    "    end_ind = np.nanargmin(np.abs(np.subtract(x, width)))\n",
    "\n",
    "    x[:start_ind] = [np.nan] * start_ind\n",
    "    x[end_ind:] = [np.nan] * (len(x) - end_ind)\n",
    "\n",
    "    y[:start_ind] = [np.nan] * start_ind\n",
    "    y[end_ind:] = [np.nan] * (len(y) - end_ind)\n",
    "\n",
    "    fit = dat.SquareEntropy.get_fit(\n",
    "        x=x,\n",
    "        data=y,\n",
    "        **kwargs)\n",
    "    return fit"
   ]
  },
  {
   "cell_type": "code",
   "execution_count": 5,
   "metadata": {
    "jupyter": {
     "source_hidden": true
    }
   },
   "outputs": [],
   "source": [
    "def narrow_fit_trans_only(dat, width, **kwargs):\n",
    "    '''\n",
    "    Get a fit only including +/- width in dat.x around center of transition\n",
    "    kwargs is the stuff to pass to get_fit\n",
    "    Return a fit\n",
    "    '''\n",
    "    x = np.copy(dat.Transition.avg_x)\n",
    "    y = np.copy(dat.Transition.avg_data)\n",
    "\n",
    "    start_ind = np.nanargmin(np.abs(np.add(x, width)))\n",
    "    end_ind = np.nanargmin(np.abs(np.subtract(x, width)))\n",
    "\n",
    "    x[:start_ind] = [np.nan] * start_ind\n",
    "    x[end_ind:] = [np.nan] * (len(x) - end_ind)\n",
    "\n",
    "    y[:start_ind] = [np.nan] * start_ind\n",
    "    y[end_ind:] = [np.nan] * (len(y) - end_ind)\n",
    "\n",
    "    fit = dat.SquareEntropy.get_fit(\n",
    "        x=x,\n",
    "        data=y,\n",
    "        **kwargs)\n",
    "    return fit"
   ]
  },
  {
   "cell_type": "code",
   "execution_count": 6,
   "metadata": {
    "jupyter": {
     "source_hidden": true
    }
   },
   "outputs": [],
   "source": [
    "def do_calc(datnum, overwrite=True):\n",
    "    \"\"\"Just a function which can be passed to a process pool for faster calculation\"\"\"\n",
    "    save_name = 'SPS.01'\n",
    "\n",
    "    dat = get_dat(datnum)\n",
    "\n",
    "    setpoints = [0.01, None]\n",
    "\n",
    "    # Get other inputs\n",
    "    setpoint_times = square_wave_time_array(dat.SquareEntropy.square_awg)\n",
    "    sp_start, sp_fin = [U.get_data_index(setpoint_times, sp) for sp in setpoints]\n",
    "    logger.debug(f'Setpoint times: {setpoints}, Setpoint indexs: {sp_start, sp_fin}')\n",
    "\n",
    "    # Run Fits\n",
    "    pp = dat.SquareEntropy.get_ProcessParams(name=None,  # Load default and modify from there\n",
    "                                             setpoint_start=sp_start, setpoint_fin=sp_fin,\n",
    "                                             transition_fit_func=i_sense,\n",
    "                                             save_name=save_name)\n",
    "    out = dat.SquareEntropy.get_Outputs(name=save_name, inputs=None, process_params=pp, overwrite=overwrite)\n",
    "    dat.Entropy.get_fit(which='avg', name=save_name, data=out.average_entropy_signal, x=out.x, check_exists=False,\n",
    "                        overwrite=overwrite)\n",
    "    [dat.Entropy.get_fit(which='row', row=i, name=save_name,\n",
    "                         data=row, x=out.x, check_exists=False,\n",
    "                         overwrite=overwrite) for i, row in enumerate(out.entropy_signal)]\n",
    "    return out"
   ]
  },
  {
   "cell_type": "code",
   "execution_count": 7,
   "metadata": {
    "jupyter": {
     "source_hidden": true
    }
   },
   "outputs": [],
   "source": [
    "def get_deltaT(dat):\n",
    "    \"\"\"Returns deltaT of a given dat in mV\"\"\"\n",
    "    ho1 = dat.AWG.max(0)  # 'HO1/10M' gives nA * 10\n",
    "    t = dat.Logs.temps.mc\n",
    "\n",
    "    # Datnums to search through (only thing that should be changed)\n",
    "    datnums = set(range(2143, 2156))\n",
    "    # datnums = set()\n",
    "    # for j in range(5):\n",
    "    #     datnums = datnums.union(set(range(28 * j + 1312, 28 * j + 1312 + 4 * 7 + 1)) - set([28 * j + 1312 + 4 * i for i in range(8)]))\n",
    "    # datnums = list(datnums)\n",
    "\n",
    "    dats = get_dats(datnums)\n",
    "\n",
    "    dats = [d for d in dats if np.isclose(d.Logs.temps.mc, dat.Logs.temps.mc, rtol=0.1)]  # Get all dats where MC temp is within 10%\n",
    "    bias_lookup = np.array([d.Logs.fds['HO1/10M'] for d in dats])\n",
    "\n",
    "    indp = np.argmin(abs(bias_lookup - ho1))\n",
    "    indm = np.argmin(abs(bias_lookup + ho1))\n",
    "    theta_z = np.nanmean([d.Transition.avg_fit.best_values.theta for d in dats if d.Logs.fds['HO1/10M'] == 0])\n",
    "\n",
    "    # temp_lookup = np.array([d.Logs.temps.mc for d in dats])\n",
    "    # bias_lookup = np.array([d.Logs.fds['HO1/10M'] for d in dats])\n",
    "    #\n",
    "    # indp = np.argmin(temp_lookup - t + bias_lookup - ho1)\n",
    "    # indm = np.argmin(temp_lookup - t + bias_lookup + ho1)\n",
    "    # indz = np.argmin(temp_lookup - t + bias_lookup)\n",
    "\n",
    "    theta_p = dats[indp].Transition.avg_fit.best_values.theta\n",
    "    theta_m = dats[indm].Transition.avg_fit.best_values.theta\n",
    "    # theta_z = dats[indz].Transition.avg_fit.best_values.theta\n",
    "    return (theta_p + theta_m) / 2 - theta_z"
   ]
  },
  {
   "cell_type": "code",
   "execution_count": 56,
   "metadata": {},
   "outputs": [],
   "source": [
    "datnums = np.sort(list(set(range(7129, 7273+1)) | set(range(7304, 7321+1)) | set(range(7292, 7302+1))))"
   ]
  },
  {
   "cell_type": "code",
   "execution_count": 206,
   "metadata": {},
   "outputs": [],
   "source": [
    "dats = get_dats(list(datnums), overwrite=False)[87:]"
   ]
  },
  {
   "cell_type": "code",
   "execution_count": 207,
   "metadata": {},
   "outputs": [
    {
     "name": "stdout",
     "output_type": "stream",
     "text": [
      "0, 7216:0.20:-289.92\n",
      "1, 7217:0.20:-284.73\n",
      "2, 7218:0.20:-279.54\n",
      "3, 7219:0.20:-274.35\n",
      "4, 7220:0.20:-269.17\n",
      "5, 7221:0.20:-263.98\n",
      "6, 7222:0.20:-258.79\n",
      "7, 7223:0.20:-253.6\n",
      "8, 7224:0.20:-248.41\n",
      "9, 7225:0.20:-243.23\n",
      "10, 7226:0.20:-238.04\n",
      "11, 7227:0.20:-232.85\n",
      "12, 7228:0.20:-227.66\n",
      "13, 7229:0.20:-222.47\n",
      "14, 7230:0.20:-217.29\n",
      "15, 7231:0.20:-212.1\n",
      "16, 7232:0.20:-206.91\n",
      "17, 7233:0.20:-201.72\n",
      "18, 7234:0.20:-196.53\n",
      "19, 7235:0.20:-189.82\n",
      "20, 7236:0.20:-179.75\n",
      "21, 7237:0.20:-169.68\n",
      "22, 7238:0.20:-159.61\n",
      "23, 7239:0.20:-149.54\n",
      "24, 7240:0.20:-159.91\n",
      "25, 7241:0.20:-149.84\n",
      "26, 7242:0.20:-139.77\n",
      "27, 7243:0.20:-129.7\n",
      "28, 7244:0.20:-119.63\n",
      "29, 7245:0.10:-289.92\n",
      "30, 7246:0.10:-284.73\n",
      "31, 7247:0.10:-279.54\n",
      "32, 7248:0.10:-274.35\n",
      "33, 7249:0.10:-269.17\n",
      "34, 7250:0.10:-263.98\n",
      "35, 7251:0.10:-258.79\n",
      "36, 7252:0.10:-253.6\n",
      "37, 7253:0.10:-248.41\n",
      "38, 7254:0.10:-243.23\n",
      "39, 7255:0.10:-238.04\n",
      "40, 7256:0.10:-232.85\n",
      "41, 7257:0.10:-227.66\n",
      "42, 7258:0.10:-222.47\n",
      "43, 7259:0.10:-217.29\n",
      "44, 7260:0.10:-212.1\n",
      "45, 7261:0.10:-206.91\n",
      "46, 7262:0.10:-201.72\n",
      "47, 7263:0.10:-196.53\n",
      "48, 7264:0.10:-189.82\n",
      "49, 7265:0.10:-179.75\n",
      "50, 7266:0.10:-169.68\n",
      "51, 7267:0.10:-159.61\n",
      "52, 7268:0.10:-149.54\n",
      "53, 7269:0.10:-159.91\n",
      "54, 7270:0.10:-149.84\n",
      "55, 7271:0.10:-139.77\n",
      "56, 7272:0.10:-129.7\n",
      "57, 7273:0.10:-119.63\n",
      "58, 7292:0.05:-196.53\n",
      "59, 7293:0.05:-189.82\n",
      "60, 7294:0.05:-179.75\n",
      "61, 7295:0.05:-169.68\n",
      "62, 7296:0.05:-159.61\n",
      "63, 7297:0.05:-149.54\n",
      "64, 7298:0.05:-159.91\n",
      "65, 7299:0.05:-149.84\n",
      "66, 7300:0.05:-139.77\n",
      "67, 7301:0.05:-129.7\n",
      "68, 7302:0.05:-119.63\n",
      "69, 7304:0.05:-284.73\n",
      "70, 7305:0.05:-279.54\n",
      "71, 7306:0.05:-274.35\n",
      "72, 7307:0.05:-269.17\n",
      "73, 7308:0.05:-263.98\n",
      "74, 7309:0.05:-258.79\n",
      "75, 7310:0.05:-253.6\n",
      "76, 7311:0.05:-248.41\n",
      "77, 7312:0.05:-243.23\n",
      "78, 7313:0.05:-238.04\n",
      "79, 7314:0.05:-232.85\n",
      "80, 7315:0.05:-227.66\n",
      "81, 7316:0.05:-222.47\n",
      "82, 7317:0.05:-217.29\n",
      "83, 7318:0.05:-212.1\n",
      "84, 7319:0.05:-206.91\n",
      "85, 7320:0.05:-201.72\n",
      "86, 7321:0.05:-196.53\n"
     ]
    }
   ],
   "source": [
    "for i, dat in enumerate(dats):\n",
    "    print(f'{i}, {dat.datnum}:{dat.Logs.temps.mc:.2f}:{dat.Logs.fds[\"ESC\"]}')"
   ]
  },
  {
   "cell_type": "code",
   "execution_count": 59,
   "metadata": {},
   "outputs": [],
   "source": [
    "# Θ = np.average([dat.SquareEntropy.get_fit(which='avg',which_fit='transition', transition_part='cold', check_exists=False).best_values.theta for dat in progressbar(dats)])\n",
    "fit = dats[0].Transition.get_fit(which='avg', check_exists=False)\n",
    "Θ = 20\n",
    "params = fit.params\n",
    "params.add('g', value=0, vary=False, min=-50, max=1000)\n",
    "new_pars = edit_params(params, param_name='theta', value=Θ, vary=True)"
   ]
  },
  {
   "cell_type": "code",
   "execution_count": 83,
   "metadata": {},
   "outputs": [
    {
     "name": "stderr",
     "output_type": "stream",
     "text": [
      "100% (28 of 28) |########################| Elapsed Time: 0:00:00 Time:  0:00:00\n"
     ]
    }
   ],
   "source": [
    "fits = [narrow_fit_trans_only(\n",
    "    dat,\n",
    "    500,\n",
    "    initial_params=new_pars, \n",
    "    fit_func=i_sense_digamma, \n",
    "    check_exists=False)\n",
    "for dat in progressbar(dats[145:-1])]"
   ]
  },
  {
   "cell_type": "code",
   "execution_count": 84,
   "metadata": {},
   "outputs": [],
   "source": [
    "thetas = [fit.best_values.theta for fit in fits]\n",
    "gammas = [fit.best_values.g for fit in fits]\n",
    "escs = [dat.Logs.fds[\"ESC\"] for dat in dats][145:-1]"
   ]
  },
  {
   "cell_type": "code",
   "execution_count": 85,
   "metadata": {},
   "outputs": [],
   "source": [
    "temp_escs = []\n",
    "temp_thetas = []\n",
    "for i, esc in enumerate(escs):\n",
    "    if esc < -230:\n",
    "        temp_escs.append(esc)\n",
    "        temp_thetas.append(thetas[i])\n",
    "thetafit = np.polyfit(temp_escs, temp_thetas, 1)"
   ]
  },
  {
   "cell_type": "code",
   "execution_count": 86,
   "metadata": {},
   "outputs": [],
   "source": [
    "fig = go.Figure()\n",
    "\n",
    "fig.add_trace(go.Scatter(mode='markers', x=escs, y=thetas, text=datnums[145:-1], name=\"Data -- Thetas\", marker_color=\"blue\"))\n",
    "fig.add_trace(go.Scatter(mode='markers', x=escs, y=gammas, text=datnums[145:-1], name=\"Data -- Gammas\", marker_color=\"red\"))\n",
    "fig.add_trace(go.Scatter(mode='lines', x=temp_escs, y=np.polyval(thetafit, temp_escs), name=\"Fit\", marker_color=\"grey\"))\n",
    "\n",
    "fig.update_layout(xaxis_title='ESC /mV', yaxis_title='Theta /mV',\n",
    "                      title=f'Dats {dats[145].datnum} - {dats[-1].datnum}')\n",
    "fig.show(renderer=\"chrome\")"
   ]
  },
  {
   "cell_type": "code",
   "execution_count": 70,
   "metadata": {},
   "outputs": [],
   "source": [
    "fig.write_html(f'Exports/Theta_dats{dats[145].datnum}_{dats[-1].datnum}.html')"
   ]
  },
  {
   "cell_type": "code",
   "execution_count": 203,
   "metadata": {},
   "outputs": [],
   "source": [
    "dats_cc = []\n",
    "for dat in dats:\n",
    "    if dat.Logs.fds[\"ESC\"] == -149.84:\n",
    "        dats_cc.append(dat)\n",
    "thetafit = np.array([ 0.09579436, 65.78364881])\n",
    "dats_cc_temps = np.array([dat.Logs.temps.mc for dat in dats_cc])\n",
    "dats_cc_thetas = np.polyval(thetafit, [-179.75])[0]*(dats_cc_temps/0.1)"
   ]
  },
  {
   "cell_type": "code",
   "execution_count": 204,
   "metadata": {},
   "outputs": [
    {
     "name": "stderr",
     "output_type": "stream",
     "text": [
      "| |                         #                         | 5 Elapsed Time: 0:00:12\n"
     ]
    }
   ],
   "source": [
    "fig = go.Figure()\n",
    "\n",
    "gamma_params = edit_params(new_pars, param_name='g', value=0, vary=True)\n",
    "xx = []\n",
    "yy = []\n",
    "for i, dat in progressbar(enumerate(dats_cc)):\n",
    "    theta = dats_cc_thetas[i]\n",
    "    theta_range = [theta + j*0.05*theta for j in range(-5, 6)]\n",
    "    fit_gammas = [narrow_fit_trans_only(dat,\n",
    "                                        5000,\n",
    "                                        initial_params=edit_params(gamma_params, param_name='theta', value=theta, vary=False), \n",
    "                                        fit_func=i_sense_digamma, \n",
    "                                        check_exists=False).best_values.g for theta in theta_range]\n",
    "    fig.add_trace(go.Scatter(mode='lines', x=theta_range/dat.Logs.temps.mc, y=fit_gammas, name=f'T = {dat.Logs.temps.mc:.2f}K'))\n",
    "    \n",
    "    for i in range(len(xx)):\n",
    "        xint, yint = find_intercept(theta_range/dat.Logs.temps.mc, fit_gammas, xx[i], yy[i])\n",
    "        fig.add_trace(go.Scatter(mode='markers', x=[xint], y=[yint], marker_color=\"grey\", showlegend=False))\n",
    "    \n",
    "    xx.append(theta_range/dat.Logs.temps.mc)\n",
    "    yy.append(fit_gammas)\n",
    "#     xfit = np.linspace(-5000,5000,1001)\n",
    "#     x = dat.Transition.avg_x\n",
    "#     y = dat.Transition.avg_data\n",
    "#     fits.append(fit_gammas[0])\n",
    "#     yfit = fit_gammas[0].eval_fit(xfit)\n",
    "#     fig.add_trace(go.Scatter(mode='lines', x=xfit, y=yfit, marker_color='grey'))\n",
    "#     fig.add_trace(go.Scatter(mode='markers', x=x, y=y, name=f'T = {dats_cc_temps[i]}'))\n",
    "fig.update_layout(xaxis_title='Theta/Tmc [mV/K]', yaxis_title='Gamma /mV',\n",
    "                      title=f'ESC = {dats_cc[0].Logs.fds[\"ESC\"]}')\n",
    "fig.show(renderer=\"chrome\") "
   ]
  },
  {
   "cell_type": "code",
   "execution_count": 205,
   "metadata": {},
   "outputs": [],
   "source": [
    "fig.write_html(f'Exports/Theta_vs_gamma_dats_{dats_cc[0].datnum}_{dats_cc[-1].datnum}.html')"
   ]
  },
  {
   "cell_type": "code",
   "execution_count": 189,
   "metadata": {},
   "outputs": [],
   "source": [
    "def find_intercept(x1, y1, x2, y2):\n",
    "    '''The idea is to get two (linear) datasets, fit them, and return their intercept'''\n",
    "    fit1 = np.polyfit(x1, y1, 1)\n",
    "    fit2 = np.polyfit(x2, y2, 1)\n",
    "    xint = (fit2[1] - fit1[1])/(fit1[0] - fit2[0])\n",
    "    yint = np.polyval(fit1, [xint])[0]\n",
    "    return (xint, yint)"
   ]
  },
  {
   "cell_type": "code",
   "execution_count": 208,
   "metadata": {
    "collapsed": true,
    "jupyter": {
     "outputs_hidden": true
    }
   },
   "outputs": [
    {
     "name": "stderr",
     "output_type": "stream",
     "text": [
      "| |       #                                           | 1 Elapsed Time: 0:00:00\n",
      "| |          #                                        | 2 Elapsed Time: 0:00:01\n",
      "| |           #                                       | 2 Elapsed Time: 0:00:01\n",
      "| |          #                                        | 2 Elapsed Time: 0:00:01\n",
      "| |          #                                        | 2 Elapsed Time: 0:00:01\n",
      "| |          #                                        | 2 Elapsed Time: 0:00:01\n",
      "| |          #                                        | 2 Elapsed Time: 0:00:01\n",
      "| |          #                                        | 2 Elapsed Time: 0:00:01\n",
      "| |          #                                        | 2 Elapsed Time: 0:00:01\n",
      "| |          #                                        | 2 Elapsed Time: 0:00:01\n",
      "| |          #                                        | 2 Elapsed Time: 0:00:01\n",
      "| |           #                                       | 2 Elapsed Time: 0:00:01\n",
      "| |           #                                       | 2 Elapsed Time: 0:00:01\n",
      "| |          #                                        | 2 Elapsed Time: 0:00:01\n",
      "| |          #                                        | 2 Elapsed Time: 0:00:01\n",
      "| |          #                                        | 2 Elapsed Time: 0:00:01\n",
      "| |          #                                        | 2 Elapsed Time: 0:00:01\n",
      "| |          #                                        | 2 Elapsed Time: 0:00:01\n",
      "| |                                  #                | 3 Elapsed Time: 0:00:13\n",
      "| |                                          #        | 2 Elapsed Time: 0:00:04\n",
      "| |        #                                          | 2 Elapsed Time: 0:00:00\n",
      "| |             #                                     | 2 Elapsed Time: 0:00:01\n",
      "| |            #                                      | 2 Elapsed Time: 0:00:01\n",
      "| |             #                                     | 2 Elapsed Time: 0:00:01\n",
      "| |           #                                       | 2 Elapsed Time: 0:00:01\n",
      "| |             #                                     | 2 Elapsed Time: 0:00:01\n",
      "| |           #                                       | 2 Elapsed Time: 0:00:01\n",
      "| |             #                                     | 2 Elapsed Time: 0:00:01\n",
      "| |             #                                     | 2 Elapsed Time: 0:00:01\n"
     ]
    }
   ],
   "source": [
    "escs = [dat.Logs.fds[\"ESC\"] for dat in dats][0:29]\n",
    "xint = []\n",
    "xints_std = []\n",
    "\n",
    "for esc in escs:\n",
    "    dats_cc = []\n",
    "    for dat in dats:\n",
    "        if dat.Logs.fds[\"ESC\"] == esc:\n",
    "            dats_cc.append(dat)\n",
    "    thetafit = np.array([ 0.09579436, 65.78364881])\n",
    "    dats_cc_temps = np.array([dat.Logs.temps.mc for dat in dats_cc])\n",
    "    dats_cc_thetas = np.polyval(thetafit, [esc])[0]*(dats_cc_temps/0.1)\n",
    "\n",
    "    gamma_params = edit_params(new_pars, param_name='g', value=0, vary=True)\n",
    "    xx = []\n",
    "    yy = []\n",
    "    xint_sf = []\n",
    "    for i, dat in progressbar(enumerate(dats_cc)):\n",
    "        theta = dats_cc_thetas[i]\n",
    "        theta_range = [theta + j*0.05*theta for j in range(-5, 6)]\n",
    "        fit_gammas = [narrow_fit_trans_only(dat,\n",
    "                                            5000,\n",
    "                                            initial_params=edit_params(gamma_params, param_name='theta', value=theta, vary=False), \n",
    "                                            fit_func=i_sense_digamma, \n",
    "                                            check_exists=False).best_values.g for theta in theta_range]\n",
    "        fig.add_trace(go.Scatter(mode='lines', x=theta_range/dat.Logs.temps.mc, y=fit_gammas, name=f'T = {dat.Logs.temps.mc:.2f}K'))\n",
    "\n",
    "        for i in range(len(xx)):\n",
    "            xint, yint = find_intercept(theta_range/dat.Logs.temps.mc, fit_gammas, xx[i], yy[i])\n",
    "            xint_sf.append(xint)\n",
    "            \n",
    "\n",
    "        xx.append(theta_range/dat.Logs.temps.mc)\n",
    "        yy.append(fit_gammas)\n",
    "     \n",
    "    xints.append(np.mean(xint_sf))\n",
    "    xints_std.append(np.std(xint_sf))"
   ]
  },
  {
   "cell_type": "code",
   "execution_count": 209,
   "metadata": {},
   "outputs": [],
   "source": [
    "fig = go.Figure()\n",
    "\n",
    "fig.add_trace(go.Scatter(mode='markers', x=escs, y=xints))\n",
    "\n",
    "# fig.update_layout(xaxis_title='IP1*200 /mV', yaxis_title='deltaT /mV',\n",
    "#                       title=f'Dats {dats[0].datnum} - {dats[-1].datnum}')\n",
    "fig.show(renderer=\"browser\")"
   ]
  },
  {
   "cell_type": "code",
   "execution_count": null,
   "metadata": {},
   "outputs": [],
   "source": []
  },
  {
   "cell_type": "code",
   "execution_count": null,
   "metadata": {},
   "outputs": [],
   "source": []
  },
  {
   "cell_type": "code",
   "execution_count": null,
   "metadata": {},
   "outputs": [],
   "source": []
  },
  {
   "cell_type": "code",
   "execution_count": null,
   "metadata": {},
   "outputs": [],
   "source": []
  },
  {
   "cell_type": "code",
   "execution_count": 892,
   "metadata": {},
   "outputs": [],
   "source": [
    "fig = go.Figure()\n",
    "\n",
    "fig.add_trace(go.Scatter(mode='markers', x=ips, text=datnums, y=deltaT, name=\"Entropy fits\"))\n",
    "\n",
    "fig.update_layout(xaxis_title='IP1*200 /mV', yaxis_title='deltaT /mV',\n",
    "                      title=f'Dats {dats[0].datnum} - {dats[-1].datnum}')\n",
    "fig.show(renderer=\"browser\")"
   ]
  },
  {
   "cell_type": "code",
   "execution_count": 186,
   "metadata": {},
   "outputs": [
    {
     "data": {
      "text/plain": [
       "0.9546627984681944"
      ]
     },
     "execution_count": 186,
     "metadata": {},
     "output_type": "execute_result"
    }
   ],
   "source": [
    "np.mean(deltaT[0:4])"
   ]
  },
  {
   "cell_type": "code",
   "execution_count": null,
   "metadata": {},
   "outputs": [],
   "source": [
    "fig.write_html(f'Exports/dT_03_17_dats{datnums[0]}_{datnums[-1]}.html')"
   ]
  },
  {
   "cell_type": "code",
   "execution_count": 870,
   "metadata": {},
   "outputs": [],
   "source": [
    "fig = go.Figure()\n",
    "\n",
    "fig.add_trace(go.Scatter(mode='markers', x=ips, y=amp_digamma_cold, text=datnums, name=\"Transition fits\"))\n",
    "\n",
    "fig.update_layout(xaxis_title='IP1*200 /mV', yaxis_title='Amplitude /mV',\n",
    "                      title=f'Dats {dats[0].datnum} - {dats[-1].datnum}')\n",
    "fig.show(renderer=\"browser\")"
   ]
  },
  {
   "cell_type": "code",
   "execution_count": 122,
   "metadata": {},
   "outputs": [
    {
     "data": {
      "text/plain": [
       "0.36157357430913073"
      ]
     },
     "execution_count": 122,
     "metadata": {},
     "output_type": "execute_result"
    }
   ],
   "source": [
    "np.mean(amp_digamma_cold[0:4])"
   ]
  },
  {
   "cell_type": "code",
   "execution_count": 1153,
   "metadata": {},
   "outputs": [],
   "source": [
    "fig.write_html(f'Exports/Ampl_03_17_dats{datnums[0]}_{datnums[-1]}.html')"
   ]
  },
  {
   "cell_type": "code",
   "execution_count": 871,
   "metadata": {},
   "outputs": [],
   "source": [
    "fig = go.Figure()\n",
    "\n",
    "fig.add_trace(go.Scatter(mode='markers', x=ips, y=theta_digamma_, text=datnums, name=\"Transition fits\"))\n",
    "\n",
    "fig.update_layout(xaxis_title='IP1*200 /mV', yaxis_title='Theta /mV',\n",
    "                      title=f'Dats {dats[0].datnum} - {dats[-1].datnum}')\n",
    "fig.show(renderer=\"chrome\")"
   ]
  },
  {
   "cell_type": "code",
   "execution_count": 893,
   "metadata": {},
   "outputs": [
    {
     "name": "stderr",
     "output_type": "stream",
     "text": [
      "| |    #                                             | 10 Elapsed Time: 0:00:00\n"
     ]
    }
   ],
   "source": [
    "fig = go.Figure()\n",
    "for i, dat in progressbar(enumerate(dats)):\n",
    "    x = dat.SquareEntropy.avg_x\n",
    "    y = dat.SquareEntropy.default_Output.averaged\n",
    "    ycold = np.mean(y[(0, 2), :], axis=0)\n",
    "    yhot = np.mean(y[(1, 3), :], axis=0)\n",
    "    xfit = np.linspace(-100,100,1001)\n",
    "    fit = narrow_fit(\n",
    "            dat,\n",
    "            400,\n",
    "            initial_params=new_pars, \n",
    "            fit_func=i_sense_digamma, \n",
    "            check_exists=False)\n",
    "    yfit = fit.eval_fit(xfit) - fit.best_values.lin*xfit\n",
    "#     fig.add_trace(go.Scatter(mode='markers', x=x, y=ycold - fit.best_values.lin*x, name=f'{datnums[i]}d_cold'))\n",
    "#     fig.add_trace(go.Scatter(mode='markers', x=x, y=yhot - fit.best_values.lin*x, name=f'{datnums[i]}d_hot'))\n",
    "    fig.add_trace(go.Scatter(mode='markers', x=x, y=y[0, :] - fit.best_values.lin*x, name=f'{datnums[i]}d_v0_0'))\n",
    "    fig.add_trace(go.Scatter(mode='markers', x=x, y=y[1, :] - fit.best_values.lin*x, name=f'{datnums[i]}d_vp'))\n",
    "    fig.add_trace(go.Scatter(mode='markers', x=x, y=y[2, :] - fit.best_values.lin*x, name=f'{datnums[i]}d_v_0_1'))\n",
    "    fig.add_trace(go.Scatter(mode='markers', x=x, y=y[3, :] - fit.best_values.lin*x, name=f'{datnums[i]}d_vm'))\n",
    "    fig.add_trace(go.Scatter(mode='lines', x=xfit, y=yfit, name=f'{datnums[i]}f', marker_color='grey'))\n",
    "fig.update_layout(xaxis_title=dats[0].Logs.xlabel, yaxis_title='Current /nA',\n",
    "                      title=f'Dat {dats[0].datnum} - {dats[-1].datnum}')\n",
    "fig.show(renderer=\"browser\")"
   ]
  },
  {
   "cell_type": "code",
   "execution_count": 882,
   "metadata": {},
   "outputs": [
    {
     "data": {
      "text/plain": [
       "20.0"
      ]
     },
     "execution_count": 882,
     "metadata": {},
     "output_type": "execute_result"
    }
   ],
   "source": [
    "dats[0].SquareEntropy.square_awg.max(0)"
   ]
  },
  {
   "cell_type": "code",
   "execution_count": 85,
   "metadata": {},
   "outputs": [],
   "source": [
    "fig.write_html(f'Exports/Cold_hot_transitions_plus_fit_dats{dats[0].datnum}_{dats[-1].datnum}.html')"
   ]
  },
  {
   "cell_type": "code",
   "execution_count": 872,
   "metadata": {},
   "outputs": [],
   "source": [
    "ampl = [0.34 for dat in dats] #0.44\n",
    "deltaT = [4.9 for dat in dats] #0.96\n",
    "for i, dat in enumerate(dats):\n",
    "    dat.Entropy.set_integration_info(dT=deltaT[i], amp=ampl[i], overwrite=True)"
   ]
  },
  {
   "cell_type": "code",
   "execution_count": 873,
   "metadata": {},
   "outputs": [
    {
     "name": "stdout",
     "output_type": "stream",
     "text": [
      "56.12783727913989\n"
     ]
    }
   ],
   "source": [
    "fig = go.Figure()\n",
    "int_ents = []\n",
    "int_ents_2d = []\n",
    "int_ents_peaks = []\n",
    "for i in range(len(dats)):\n",
    "    width = dat.Entropy.get_fit(which='avg', name=\"SPS.01\", check_exists=True).best_values.theta*10\n",
    "#     width = g_digamma_[i]*1\n",
    "    center = dat.Entropy.get_fit(which='avg', name=\"SPS.01\", check_exists=True).best_values.mid\n",
    "    indstart = np.argmin(np.abs(np.subtract(out[i].x, center-width)))\n",
    "    indend = np.argmin(np.abs(np.subtract(out[i].x, center+width)))\n",
    "    \n",
    "    int_ent = integrate_entropy(out[i].average_entropy_signal, dats[i].Entropy.integration_info.sf)\n",
    "    int_ents_2d.append(int_ent)\n",
    "    int_ents_peaks.append(max(int_ent))\n",
    "    int_ents.append(int_ent[indend] - int_ent[indstart])\n",
    "    fig.add_trace(go.Scatter(mode='markers', \n",
    "                             x=np.subtract(out[i].x, mids_digamma_[i]), \n",
    "                             y=int_ent,\n",
    "                             text=f'Int Ent = {int_ents[i]:.2f}',\n",
    "                             name= f'dat{dats[i].datnum}, IP*200:{dats[i].Logs.fds[\"IP1*200\"]}'))\n",
    "\n",
    "fig.update_layout(xaxis_title=dats[0].Logs.xlabel, yaxis_title='Entropy /kb',\n",
    "                      title=f'Dats {dats[0].datnum} - {dats[-1].datnum}')\n",
    "fig.show(renderer='chrome')\n",
    "print(width)"
   ]
  },
  {
   "cell_type": "code",
   "execution_count": 287,
   "metadata": {},
   "outputs": [],
   "source": [
    "fig.write_html(f'Exports/IntEntropy_03_22_dats{dats[0].datnum}_{dats[-1].datnum}.html')"
   ]
  },
  {
   "cell_type": "code",
   "execution_count": 874,
   "metadata": {},
   "outputs": [],
   "source": [
    "ents = [dat.Entropy.get_fit(which='avg', name=\"SPS.01\", check_exists=True).best_values.dS for dat in dats]\n",
    "fig = go.Figure()\n",
    "fig.add_trace(go.Scatter(mode='markers', \n",
    "                         x=ips, y=int_ents, \n",
    "                         text=datnums, \n",
    "                         name=\"Int\",\n",
    "                         marker=dict(color='LightSkyBlue',\n",
    "                                     size=10,\n",
    "                                     line=dict(color='DarkSlateGrey',\n",
    "                                               width=2))))\n",
    "fig.add_trace(go.Scatter(mode='markers', \n",
    "                         x=ips, y=ents, \n",
    "                         text=datnums, \n",
    "                         name=\"Fit\",\n",
    "                         marker=dict(color='Brown',\n",
    "                                     size=10,\n",
    "                                     line=dict(color='DarkSlateGrey',\n",
    "                                               width=2))))\n",
    "fig.add_trace(go.Scatter(mode='markers', \n",
    "                         x=ips, y=int_ents_peaks, \n",
    "                         text=datnums, \n",
    "                         name=\"Integrated Peak\",\n",
    "                         marker=dict(color='Green',\n",
    "                                     size=10,\n",
    "                                     line=dict(color='DarkSlateGrey',\n",
    "                                               width=2))))\n",
    "\n",
    "\n",
    "fig.update_layout(xaxis_title=\"IP1*200 /mV\", yaxis_title='Entropy /kb',\n",
    "                      title=f'Integrated -- Dats {dats[0].datnum} - {dats[-1].datnum}')\n",
    "fig.show(renderer=\"chrome\")"
   ]
  },
  {
   "cell_type": "code",
   "execution_count": 636,
   "metadata": {},
   "outputs": [],
   "source": [
    "fig.write_html(f'Exports/IntEntropyvalues_03_24_dats{datnums[0]}_{datnums[-1]}.html')"
   ]
  },
  {
   "cell_type": "code",
   "execution_count": 261,
   "metadata": {},
   "outputs": [],
   "source": [
    "fig = go.Figure()\n",
    "fig.add_trace(go.Scatter(mode='markers', \n",
    "                         x=ips, y=np.subtract(int_ents_peaks,int_ents), \n",
    "                         text=datnums, \n",
    "                         name=\"Peak-Int\",\n",
    "                         marker=dict(color='Green',\n",
    "                                     size=10,\n",
    "                                     line=dict(color='DarkSlateGrey',\n",
    "                                               width=2))))\n",
    "\n",
    "fig.update_layout(xaxis_title='IP1*200 /mV', yaxis_title='Entropy /kb',\n",
    "                      title=f'Integrated -- Dats {dats[0].datnum} - {dats[-1].datnum}')\n",
    "fig.show(renderer=\"browser\")"
   ]
  },
  {
   "cell_type": "code",
   "execution_count": 622,
   "metadata": {},
   "outputs": [],
   "source": [
    "fig = go.Figure()\n",
    "for i in range(len(dats)):\n",
    "    enty = out[i].average_entropy_signal\n",
    "    entx = out[i].x\n",
    "    fitent = dats[i].Entropy.get_fit(which='avg', name=\"SPS.01\", check_exists=True).eval_fit(entx)\n",
    "    ent = dats[i].Entropy.get_fit(which='avg', name=\"SPS.01\", check_exists=True).best_values.dS\n",
    "    fig.add_trace(go.Scatter(mode='markers', \n",
    "                             x=entx,\n",
    "                             y=enty,\n",
    "                             name= f'dat{dats[i].datnum}, IP*200:{dats[i].Logs.fds[\"IP1*200\"]}'))\n",
    "    \n",
    "    fig.add_trace(go.Scatter(mode='lines', x=entx, y=fitent, name=f'{datnums[i]}f, {ent}', marker_color='grey'))\n",
    "\n",
    "fig.update_layout(xaxis_title=dats[0].Logs.xlabel, yaxis_title='Entropy /kb',\n",
    "                      title=f'Dats {dats[0].datnum} - {dats[-1].datnum}')\n",
    "fig.show(renderer='chrome')"
   ]
  },
  {
   "cell_type": "code",
   "execution_count": 417,
   "metadata": {},
   "outputs": [],
   "source": [
    "fig.write_html(f'Exports/FitEntropy_03_23_dats{datnums[0]}_{datnums[-1]}.html')"
   ]
  },
  {
   "cell_type": "code",
   "execution_count": 801,
   "metadata": {},
   "outputs": [],
   "source": [
    "entz_2d = [out[i].average_entropy_signal for i in range(len(dats))]"
   ]
  },
  {
   "cell_type": "code",
   "execution_count": 839,
   "metadata": {},
   "outputs": [],
   "source": [
    "fig = go.Figure()\n",
    "fig.add_trace(go.Heatmap(\n",
    "                    z=int_ents_2d, x=out[0].x, y=[ips[j] for j in range(len(dats))],\n",
    "                    colorscale='RdBu', zmid=0, zmax=2, zmin=-2)\n",
    "             )\n",
    "fig.update_layout(xaxis_title='ACC*100, IP1*200 /mV', yaxis_title='IP1*200',\n",
    "                      title=f'Dats {dats[0].datnum} - {dats[-1].datnum}, IS = {dats[0].Logs.bds[\"IS\"]}')\n",
    "fig.show(renderer='chrome')"
   ]
  },
  {
   "cell_type": "code",
   "execution_count": 639,
   "metadata": {},
   "outputs": [],
   "source": [
    "fig.write_html(f'Exports/dndt_2d_dats{datnums[0]}_{datnums[-1]}.html')"
   ]
  },
  {
   "cell_type": "code",
   "execution_count": 623,
   "metadata": {},
   "outputs": [
    {
     "name": "stderr",
     "output_type": "stream",
     "text": [
      "100% (17 of 17) |########################| Elapsed Time: 0:00:04 Time:  0:00:04\n"
     ]
    }
   ],
   "source": [
    "centers = [dat.SquareEntropy.get_fit(data=dat.Data.get_data('Experiment Copy/cscurrent_2d')[0],\n",
    "                                     name=\"Centers\",\n",
    "                                     x=dat.Data.get_data('Experiment Copy/x_array'),\n",
    "                                     which_fit='transition', \n",
    "                                     check_exists=False).best_values.mid\n",
    "for dat in progressbar(dats)]"
   ]
  },
  {
   "cell_type": "code",
   "execution_count": 624,
   "metadata": {},
   "outputs": [],
   "source": [
    "occ_data = get_dat(5055)\n",
    "data = occ_data.Data.get_data('Experiment Copy/cscurrent_2d')\n",
    "x=occ_data.Data.get_data('Experiment Copy/x_array')\n",
    "y=occ_data.Data.get_data('Experiment Copy/y_array')\n",
    "accs = [dat.Logs.fds[\"ACC*100\"] for dat in dats]"
   ]
  },
  {
   "cell_type": "code",
   "execution_count": 625,
   "metadata": {},
   "outputs": [],
   "source": [
    "fig = go.Figure()\n",
    "ips_other = np.array(ips)\n",
    "fig.add_trace(go.Heatmap(\n",
    "                    z=np.diff(data), x=x[:-1], y=y))\n",
    "fig.add_trace(go.Scatter(mode='markers', \n",
    "                         x=centers, y=ips_other, \n",
    "                         text=[dat.datnum for dat in dats],\n",
    "                         marker_color=\"White\"))\n",
    "fig.update_layout(xaxis_title='ACC*100 /mV', yaxis_title='IP1*200',\n",
    "                      title=f'Dats {dats[0].datnum} - {dats[-1].datnum}, dat{occ_data.datnum}')\n",
    "fig.show(renderer='chrome')"
   ]
  },
  {
   "cell_type": "code",
   "execution_count": 415,
   "metadata": {},
   "outputs": [],
   "source": [
    "fig.write_html(f'Exports/Along_occ_03_21_{dats[0].datnum}_{dats[-1].datnum}.html')"
   ]
  },
  {
   "cell_type": "code",
   "execution_count": 353,
   "metadata": {},
   "outputs": [
    {
     "data": {
      "text/plain": [
       "[-700.0, -600.0, -500.0, -400.0, -300.0, -200.0, -100.0, 0.0, 100.0]"
      ]
     },
     "execution_count": 353,
     "metadata": {},
     "output_type": "execute_result"
    }
   ],
   "source": [
    "ips"
   ]
  },
  {
   "cell_type": "code",
   "execution_count": null,
   "metadata": {},
   "outputs": [],
   "source": []
  }
 ],
 "metadata": {
  "kernelspec": {
   "display_name": "Python 3",
   "language": "python",
   "name": "python3"
  },
  "language_info": {
   "codemirror_mode": {
    "name": "ipython",
    "version": 3
   },
   "file_extension": ".py",
   "mimetype": "text/x-python",
   "name": "python",
   "nbconvert_exporter": "python",
   "pygments_lexer": "ipython3",
   "version": "3.8.1"
  }
 },
 "nbformat": 4,
 "nbformat_minor": 4
}
