{
 "cells": [
  {
   "cell_type": "code",
   "execution_count": 2,
   "metadata": {},
   "outputs": [],
   "source": [
    "# Add PyDatAnalysis to path\n",
    "import sys\n",
    "# insert at 1, 0 is the script path (or '' in REPL)\n",
    "sys.path.insert(1, \"/Users/owensheekey/Documents/Research/PyDatAnalysis\")\n",
    "\n",
    "export_path = 'Exports/'"
   ]
  },
  {
   "cell_type": "code",
   "execution_count": 3,
   "metadata": {},
   "outputs": [],
   "source": [
    "from __future__ import annotations\n",
    "from src.DatObject.Make_Dat import get_dat, get_dats\n",
    "import src.UsefulFunctions as U\n",
    "from src.DataStandardize.ExpSpecific.Feb21 import Feb21Exp2HDF, Feb21ExpConfig\n",
    "from src.DataStandardize.ExpConfig import ExpConfigGroupDatAttribute, ExpConfigBase\n",
    "import multiprocessing as mp\n",
    "import plotly.graph_objs as go\n",
    "import numpy as np\n",
    "import lmfit as lm\n",
    "from typing import TYPE_CHECKING, Iterable, Optional"
   ]
  },
  {
   "cell_type": "code",
   "execution_count": 43,
   "metadata": {},
   "outputs": [],
   "source": [
    "def sym_quad(x, a, b):\n",
    "    return a*x**2 + b"
   ]
  },
  {
   "cell_type": "code",
   "execution_count": 44,
   "metadata": {},
   "outputs": [],
   "source": [
    "qmodel = lm.Model(sym_quad)"
   ]
  },
  {
   "cell_type": "code",
   "execution_count": 3,
   "metadata": {
    "jupyter": {
     "source_hidden": true
    }
   },
   "outputs": [],
   "source": [
    "def theta_vs_fridge_temp_fig(thetas: Iterable[float], temps: Iterable[float], datnums: Iterable[int],\n",
    "                             lower_fit_temp_limit: Optional[float] = None) -> go.Figure:\n",
    "    fig = go.Figure()\n",
    "    fig.add_trace(go.Scatter(mode='markers+lines+text', x=temps, y=thetas, text=datnums, name='Avg Thetas'))\n",
    "    if lower_fit_temp_limit is not None:\n",
    "        line = lm.models.LinearModel()\n",
    "        fit_thetas, fit_temps = np.array([(theta, temp) for theta, temp in zip(thetas, temps) if temp > lower_fit_temp_limit]).T\n",
    "        fit = line.fit(fit_thetas, x=fit_temps, nan_policy='omit')\n",
    "        x_range = np.linspace(0, max(temps), int(max(temps))+1)\n",
    "        fig.add_trace(go.Scatter(mode='lines', x=x_range, y=fit.eval(x=x_range),\n",
    "                                 name=f'Fit to temps > {lower_fit_temp_limit}'))\n",
    "    fig.update_layout(xaxis_title='Temp /mK', yaxis_title='Theta /mV',\n",
    "                      title=f'Dats{min(datnums)}-{max(datnums)}: Transition vs Fridge temp')\n",
    "    return fig"
   ]
  },
  {
   "cell_type": "code",
   "execution_count": 7,
   "metadata": {
    "collapsed": true,
    "jupyter": {
     "outputs_hidden": true,
     "source_hidden": true
    }
   },
   "outputs": [
    {
     "ename": "NameError",
     "evalue": "name 'theta_vs_fridge_temp_fig' is not defined",
     "output_type": "error",
     "traceback": [
      "\u001b[0;31m---------------------------------------------------------------------------\u001b[0m",
      "\u001b[0;31mNameError\u001b[0m                                 Traceback (most recent call last)",
      "\u001b[0;32m<ipython-input-7-3202a1a7dce4>\u001b[0m in \u001b[0;36m<module>\u001b[0;34m\u001b[0m\n\u001b[1;32m      3\u001b[0m \u001b[0mtemps_\u001b[0m \u001b[0;34m=\u001b[0m \u001b[0;34m[\u001b[0m\u001b[0;36m300\u001b[0m\u001b[0;34m,\u001b[0m \u001b[0;36m275\u001b[0m\u001b[0;34m,\u001b[0m \u001b[0;36m250\u001b[0m\u001b[0;34m,\u001b[0m \u001b[0;36m225\u001b[0m\u001b[0;34m,\u001b[0m \u001b[0;36m200\u001b[0m\u001b[0;34m,\u001b[0m \u001b[0;36m175\u001b[0m\u001b[0;34m,\u001b[0m \u001b[0;36m150\u001b[0m\u001b[0;34m,\u001b[0m \u001b[0;36m125\u001b[0m\u001b[0;34m,\u001b[0m \u001b[0;36m100\u001b[0m\u001b[0;34m,\u001b[0m \u001b[0;36m75\u001b[0m\u001b[0;34m,\u001b[0m \u001b[0;36m50\u001b[0m\u001b[0;34m,\u001b[0m \u001b[0;36m30\u001b[0m\u001b[0;34m,\u001b[0m \u001b[0;36m10\u001b[0m\u001b[0;34m]\u001b[0m\u001b[0;34m\u001b[0m\u001b[0;34m\u001b[0m\u001b[0m\n\u001b[1;32m      4\u001b[0m \u001b[0mdatnums_\u001b[0m \u001b[0;34m=\u001b[0m \u001b[0;34m[\u001b[0m\u001b[0mdat\u001b[0m\u001b[0;34m.\u001b[0m\u001b[0mdatnum\u001b[0m \u001b[0;32mfor\u001b[0m \u001b[0mdat\u001b[0m \u001b[0;32min\u001b[0m \u001b[0mdats\u001b[0m\u001b[0;34m]\u001b[0m\u001b[0;34m\u001b[0m\u001b[0;34m\u001b[0m\u001b[0m\n\u001b[0;32m----> 5\u001b[0;31m \u001b[0mfig\u001b[0m \u001b[0;34m=\u001b[0m \u001b[0mtheta_vs_fridge_temp_fig\u001b[0m\u001b[0;34m(\u001b[0m\u001b[0mthetas\u001b[0m\u001b[0;34m=\u001b[0m\u001b[0mthetas_\u001b[0m\u001b[0;34m,\u001b[0m \u001b[0mtemps\u001b[0m\u001b[0;34m=\u001b[0m\u001b[0mtemps_\u001b[0m\u001b[0;34m,\u001b[0m \u001b[0mdatnums\u001b[0m\u001b[0;34m=\u001b[0m\u001b[0mdatnums_\u001b[0m\u001b[0;34m,\u001b[0m \u001b[0mlower_fit_temp_limit\u001b[0m\u001b[0;34m=\u001b[0m\u001b[0;36m160\u001b[0m\u001b[0;34m)\u001b[0m\u001b[0;34m\u001b[0m\u001b[0;34m\u001b[0m\u001b[0m\n\u001b[0m\u001b[1;32m      6\u001b[0m \u001b[0mfig\u001b[0m\u001b[0;34m.\u001b[0m\u001b[0mshow\u001b[0m\u001b[0;34m(\u001b[0m\u001b[0mrenderer\u001b[0m\u001b[0;34m=\u001b[0m\u001b[0;34m'browser'\u001b[0m\u001b[0;34m)\u001b[0m\u001b[0;34m\u001b[0m\u001b[0;34m\u001b[0m\u001b[0m\n",
      "\u001b[0;31mNameError\u001b[0m: name 'theta_vs_fridge_temp_fig' is not defined"
     ]
    }
   ],
   "source": [
    "dats = get_dats(np.array([824, 836, 848, 860, 872, 889, 901, 913, 926, 938, 958, 970, 982])-2, exp2hdf=Feb21Exp2HDF)\n",
    "thetas_ = [dat.Transition.avg_fit.best_values.theta for dat in dats]\n",
    "temps_ = [300, 275, 250, 225, 200, 175, 150, 125, 100, 75, 50, 30, 10]\n",
    "datnums_ = [dat.datnum for dat in dats]\n",
    "fig = theta_vs_fridge_temp_fig(thetas=thetas_, temps=temps_, datnums=datnums_, lower_fit_temp_limit=160)\n",
    "fig.show(renderer='browser')"
   ]
  },
  {
   "cell_type": "code",
   "execution_count": 9,
   "metadata": {
    "jupyter": {
     "source_hidden": true
    }
   },
   "outputs": [],
   "source": [
    "def theta_vs_heaterbias_fig(thetas: Iterable[float], heaters: Iterable[float], datnums: Iterable[int], BD2D: float):\n",
    "    fig = go.Figure()\n",
    "    fig.add_trace(go.Scatter(mode='markers+lines+text', x=heaters, y=thetas, text=datnums, name='BD2D = {BD2D} mV'))\n",
    "    fig.update_layout(xaxis_title='Heater bias /nA', yaxis_title='Theta /mV',\n",
    "                      title=f'Dats{min(datnums)}-{max(datnums)}: DC bias, BD2D = {BD2D} mV')\n",
    "    return fig"
   ]
  },
  {
   "cell_type": "code",
   "execution_count": 33,
   "metadata": {
    "collapsed": true,
    "jupyter": {
     "outputs_hidden": true,
     "source_hidden": true
    }
   },
   "outputs": [
    {
     "name": "stderr",
     "output_type": "stream",
     "text": [
      "Need to make _init_mags more permanent...\n",
      "Need to make _init_mags more permanent...\n",
      "Need to make _init_mags more permanent...\n",
      "Need to make _init_mags more permanent...\n",
      "Need to make _init_mags more permanent...\n",
      "Need to make _init_mags more permanent...\n",
      "Need to make _init_mags more permanent...\n"
     ]
    }
   ],
   "source": [
    "dats = get_dats((1017, 1017+9*8), exp2hdf=Feb21Exp2HDF)\n",
    "heaters_ = np.array([0, 5, 10, 20, 30, 40, 50, 75, 100])/10\n",
    "fig = go.Figure()\n",
    "for i in range(8):\n",
    "    dats = get_dats((1017+9*i, 1017+i*9+9), exp2hdf=Feb21Exp2HDF)\n",
    "    datnums_ = [dat.datnum for dat in dats]\n",
    "    thetas_ = [dat.Transition.avg_fit.best_values.theta for dat in dats]\n",
    "    fig.add_trace(go.Scatter(mode='markers+lines+text', x=heaters_, y=thetas_, text=datnums_, name=f'BD2D = {dats[0].Logs.bds[\"BD2D\"]} mV'))\n",
    "fig.update_layout(xaxis_title='Heater bias /nA', yaxis_title='Theta /mV',\n",
    "                      title=f'Dats{min(datnums_)}-{max(datnums_)}: DC bias')\n",
    "fig.show(renderer='browser')"
   ]
  },
  {
   "cell_type": "code",
   "execution_count": 35,
   "metadata": {
    "jupyter": {
     "source_hidden": true
    }
   },
   "outputs": [],
   "source": [
    "fig.write_html(\"Exports/DCbias.html\")"
   ]
  },
  {
   "cell_type": "code",
   "execution_count": 52,
   "metadata": {},
   "outputs": [
    {
     "name": "stderr",
     "output_type": "stream",
     "text": [
      "Need to make _init_mags more permanent...\n",
      "Need to make _init_mags more permanent...\n",
      "Need to make _init_mags more permanent...\n",
      "Need to make _init_mags more permanent...\n",
      "Need to make _init_mags more permanent...\n",
      "Need to make _init_mags more permanent...\n",
      "Need to make _init_mags more permanent...\n",
      "Need to make _init_mags more permanent...\n",
      "Need to make _init_mags more permanent...\n",
      "Need to make _init_mags more permanent...\n",
      "Need to make _init_mags more permanent...\n",
      "Need to make _init_mags more permanent...\n",
      "Need to make _init_mags more permanent...\n",
      "Need to make _init_mags more permanent...\n",
      "Need to make _init_mags more permanent...\n",
      "Need to make _init_mags more permanent...\n",
      "Need to make _init_mags more permanent...\n",
      "Need to make _init_mags more permanent...\n",
      "Need to make _init_mags more permanent...\n",
      "Need to make _init_mags more permanent...\n",
      "Need to make _init_mags more permanent...\n"
     ]
    }
   ],
   "source": [
    "fig = go.Figure()\n",
    "for j in range(5):\n",
    "    datnums = set(range(28*j + 1312, 28*j +1312+4*7+1)) - set([28*j + 1312+4*i for i in range(8)])\n",
    "    dats = get_dats(datnums)\n",
    "    thetas_ = [dat.Transition.avg_fit.best_values.theta for dat in dats]\n",
    "    bias_ = [dat.Logs.fds['HO1/10M']/10 for dat in dats]\n",
    "    datnums_ = [str(d) for d in datnums]\n",
    "    fig.add_trace(go.Scatter(mode='markers', x=bias_, y=thetas_, text=datnums_, name=f'Tmc = {dats[0].Logs.temps.mc} mK'))\n",
    "    # fit = qmodel.fit(thetas_, x=bias_, a=1, b=2)\n",
    "    # fig.add_trace(go.Scatter(mode='lines', x=bias_, y=fit.best_fit, name=f'Tmc = {dats[0].Logs.temps.mc} mK -- sym fit'))\n",
    "\n",
    "fig.update_layout(xaxis_title='Heater bias /nA', yaxis_title='Theta /mV',\n",
    "                      title='DC bias')\n",
    "fig.show(renderer=\"browser\")\n"
   ]
  },
  {
   "cell_type": "code",
   "execution_count": 53,
   "metadata": {},
   "outputs": [],
   "source": [
    "fig.write_html(\"Exports/DCbias_03_03.html\")\n"
   ]
  },
  {
   "cell_type": "code",
   "execution_count": null,
   "metadata": {},
   "outputs": [],
   "source": []
  }
 ],
 "metadata": {
  "kernelspec": {
   "display_name": "Python 3",
   "language": "python",
   "name": "python3"
  },
  "language_info": {
   "codemirror_mode": {
    "name": "ipython",
    "version": 3
   },
   "file_extension": ".py",
   "mimetype": "text/x-python",
   "name": "python",
   "nbconvert_exporter": "python",
   "pygments_lexer": "ipython3",
   "version": "3.8.1"
  }
 },
 "nbformat": 4,
 "nbformat_minor": 4
}
